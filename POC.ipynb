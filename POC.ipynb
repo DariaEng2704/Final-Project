{
 "cells": [
  {
   "cell_type": "code",
   "execution_count": 1,
   "metadata": {},
   "outputs": [
    {
     "data": {
      "text/html": [
       "<div>\n",
       "<style scoped>\n",
       "    .dataframe tbody tr th:only-of-type {\n",
       "        vertical-align: middle;\n",
       "    }\n",
       "\n",
       "    .dataframe tbody tr th {\n",
       "        vertical-align: top;\n",
       "    }\n",
       "\n",
       "    .dataframe thead th {\n",
       "        text-align: right;\n",
       "    }\n",
       "</style>\n",
       "<table border=\"1\" class=\"dataframe\">\n",
       "  <thead>\n",
       "    <tr style=\"text-align: right;\">\n",
       "      <th></th>\n",
       "      <th>country</th>\n",
       "      <th>description</th>\n",
       "      <th>designation</th>\n",
       "      <th>points</th>\n",
       "      <th>price</th>\n",
       "      <th>province</th>\n",
       "      <th>region_1</th>\n",
       "      <th>region_2</th>\n",
       "      <th>variety</th>\n",
       "      <th>winery</th>\n",
       "    </tr>\n",
       "  </thead>\n",
       "  <tbody>\n",
       "    <tr>\n",
       "      <th>0</th>\n",
       "      <td>US</td>\n",
       "      <td>This tremendous 100% varietal wine hails from ...</td>\n",
       "      <td>Martha's Vineyard</td>\n",
       "      <td>96</td>\n",
       "      <td>235.0</td>\n",
       "      <td>California</td>\n",
       "      <td>Napa Valley</td>\n",
       "      <td>Napa</td>\n",
       "      <td>Cabernet Sauvignon</td>\n",
       "      <td>Heitz</td>\n",
       "    </tr>\n",
       "    <tr>\n",
       "      <th>1</th>\n",
       "      <td>Spain</td>\n",
       "      <td>Ripe aromas of fig, blackberry and cassis are ...</td>\n",
       "      <td>Carodorum Selección Especial Reserva</td>\n",
       "      <td>96</td>\n",
       "      <td>110.0</td>\n",
       "      <td>Northern Spain</td>\n",
       "      <td>Toro</td>\n",
       "      <td>NaN</td>\n",
       "      <td>Tinta de Toro</td>\n",
       "      <td>Bodega Carmen Rodríguez</td>\n",
       "    </tr>\n",
       "    <tr>\n",
       "      <th>2</th>\n",
       "      <td>US</td>\n",
       "      <td>Mac Watson honors the memory of a wine once ma...</td>\n",
       "      <td>Special Selected Late Harvest</td>\n",
       "      <td>96</td>\n",
       "      <td>90.0</td>\n",
       "      <td>California</td>\n",
       "      <td>Knights Valley</td>\n",
       "      <td>Sonoma</td>\n",
       "      <td>Sauvignon Blanc</td>\n",
       "      <td>Macauley</td>\n",
       "    </tr>\n",
       "    <tr>\n",
       "      <th>3</th>\n",
       "      <td>US</td>\n",
       "      <td>This spent 20 months in 30% new French oak, an...</td>\n",
       "      <td>Reserve</td>\n",
       "      <td>96</td>\n",
       "      <td>65.0</td>\n",
       "      <td>Oregon</td>\n",
       "      <td>Willamette Valley</td>\n",
       "      <td>Willamette Valley</td>\n",
       "      <td>Pinot Noir</td>\n",
       "      <td>Ponzi</td>\n",
       "    </tr>\n",
       "    <tr>\n",
       "      <th>4</th>\n",
       "      <td>France</td>\n",
       "      <td>This is the top wine from La Bégude, named aft...</td>\n",
       "      <td>La Brûlade</td>\n",
       "      <td>95</td>\n",
       "      <td>66.0</td>\n",
       "      <td>Provence</td>\n",
       "      <td>Bandol</td>\n",
       "      <td>NaN</td>\n",
       "      <td>Provence red blend</td>\n",
       "      <td>Domaine de la Bégude</td>\n",
       "    </tr>\n",
       "    <tr>\n",
       "      <th>5</th>\n",
       "      <td>Spain</td>\n",
       "      <td>Deep, dense and pure from the opening bell, th...</td>\n",
       "      <td>Numanthia</td>\n",
       "      <td>95</td>\n",
       "      <td>73.0</td>\n",
       "      <td>Northern Spain</td>\n",
       "      <td>Toro</td>\n",
       "      <td>NaN</td>\n",
       "      <td>Tinta de Toro</td>\n",
       "      <td>Numanthia</td>\n",
       "    </tr>\n",
       "    <tr>\n",
       "      <th>6</th>\n",
       "      <td>Spain</td>\n",
       "      <td>Slightly gritty black-fruit aromas include a s...</td>\n",
       "      <td>San Román</td>\n",
       "      <td>95</td>\n",
       "      <td>65.0</td>\n",
       "      <td>Northern Spain</td>\n",
       "      <td>Toro</td>\n",
       "      <td>NaN</td>\n",
       "      <td>Tinta de Toro</td>\n",
       "      <td>Maurodos</td>\n",
       "    </tr>\n",
       "    <tr>\n",
       "      <th>7</th>\n",
       "      <td>Spain</td>\n",
       "      <td>Lush cedary black-fruit aromas are luxe and of...</td>\n",
       "      <td>Carodorum Único Crianza</td>\n",
       "      <td>95</td>\n",
       "      <td>110.0</td>\n",
       "      <td>Northern Spain</td>\n",
       "      <td>Toro</td>\n",
       "      <td>NaN</td>\n",
       "      <td>Tinta de Toro</td>\n",
       "      <td>Bodega Carmen Rodríguez</td>\n",
       "    </tr>\n",
       "    <tr>\n",
       "      <th>8</th>\n",
       "      <td>US</td>\n",
       "      <td>This re-named vineyard was formerly bottled as...</td>\n",
       "      <td>Silice</td>\n",
       "      <td>95</td>\n",
       "      <td>65.0</td>\n",
       "      <td>Oregon</td>\n",
       "      <td>Chehalem Mountains</td>\n",
       "      <td>Willamette Valley</td>\n",
       "      <td>Pinot Noir</td>\n",
       "      <td>Bergström</td>\n",
       "    </tr>\n",
       "    <tr>\n",
       "      <th>9</th>\n",
       "      <td>US</td>\n",
       "      <td>The producer sources from two blocks of the vi...</td>\n",
       "      <td>Gap's Crown Vineyard</td>\n",
       "      <td>95</td>\n",
       "      <td>60.0</td>\n",
       "      <td>California</td>\n",
       "      <td>Sonoma Coast</td>\n",
       "      <td>Sonoma</td>\n",
       "      <td>Pinot Noir</td>\n",
       "      <td>Blue Farm</td>\n",
       "    </tr>\n",
       "  </tbody>\n",
       "</table>\n",
       "</div>"
      ],
      "text/plain": [
       "  country                                        description  \\\n",
       "0      US  This tremendous 100% varietal wine hails from ...   \n",
       "1   Spain  Ripe aromas of fig, blackberry and cassis are ...   \n",
       "2      US  Mac Watson honors the memory of a wine once ma...   \n",
       "3      US  This spent 20 months in 30% new French oak, an...   \n",
       "4  France  This is the top wine from La Bégude, named aft...   \n",
       "5   Spain  Deep, dense and pure from the opening bell, th...   \n",
       "6   Spain  Slightly gritty black-fruit aromas include a s...   \n",
       "7   Spain  Lush cedary black-fruit aromas are luxe and of...   \n",
       "8      US  This re-named vineyard was formerly bottled as...   \n",
       "9      US  The producer sources from two blocks of the vi...   \n",
       "\n",
       "                            designation  points  price        province  \\\n",
       "0                     Martha's Vineyard      96  235.0      California   \n",
       "1  Carodorum Selección Especial Reserva      96  110.0  Northern Spain   \n",
       "2         Special Selected Late Harvest      96   90.0      California   \n",
       "3                               Reserve      96   65.0          Oregon   \n",
       "4                            La Brûlade      95   66.0        Provence   \n",
       "5                             Numanthia      95   73.0  Northern Spain   \n",
       "6                             San Román      95   65.0  Northern Spain   \n",
       "7               Carodorum Único Crianza      95  110.0  Northern Spain   \n",
       "8                                Silice      95   65.0          Oregon   \n",
       "9                  Gap's Crown Vineyard      95   60.0      California   \n",
       "\n",
       "             region_1           region_2             variety  \\\n",
       "0         Napa Valley               Napa  Cabernet Sauvignon   \n",
       "1                Toro                NaN       Tinta de Toro   \n",
       "2      Knights Valley             Sonoma     Sauvignon Blanc   \n",
       "3   Willamette Valley  Willamette Valley          Pinot Noir   \n",
       "4              Bandol                NaN  Provence red blend   \n",
       "5                Toro                NaN       Tinta de Toro   \n",
       "6                Toro                NaN       Tinta de Toro   \n",
       "7                Toro                NaN       Tinta de Toro   \n",
       "8  Chehalem Mountains  Willamette Valley          Pinot Noir   \n",
       "9        Sonoma Coast             Sonoma          Pinot Noir   \n",
       "\n",
       "                    winery  \n",
       "0                    Heitz  \n",
       "1  Bodega Carmen Rodríguez  \n",
       "2                 Macauley  \n",
       "3                    Ponzi  \n",
       "4     Domaine de la Bégude  \n",
       "5                Numanthia  \n",
       "6                 Maurodos  \n",
       "7  Bodega Carmen Rodríguez  \n",
       "8                Bergström  \n",
       "9                Blue Farm  "
      ]
     },
     "execution_count": 1,
     "metadata": {},
     "output_type": "execute_result"
    }
   ],
   "source": [
    "import pandas as pd\n",
    "import numpy as np\n",
    "from scipy import stats\n",
    "from datetime import datetime\n",
    "from sklearn import preprocessing\n",
    "from sklearn.model_selection import KFold\n",
    "from sklearn.linear_model import LinearRegression\n",
    "import matplotlib.pyplot as plt\n",
    "%matplotlib inline\n",
    "\n",
    "\n",
    "data = pd.read_csv (r'C:\\Users\\daria\\OneDrive\\Desktop\\Final Project\\winemag-data_first150k.csv')\n",
    "df = pd.DataFrame(data)\n",
    "df = df.drop(df.columns[0], axis=1) \n",
    "df.describe()\n",
    "df.head(10)\n"
   ]
  },
  {
   "cell_type": "code",
   "execution_count": 3,
   "metadata": {},
   "outputs": [
    {
     "name": "stderr",
     "output_type": "stream",
     "text": [
      "<ipython-input-3-bf7a16dd97cb>:2: SettingWithCopyWarning: \n",
      "A value is trying to be set on a copy of a slice from a DataFrame.\n",
      "Try using .loc[row_indexer,col_indexer] = value instead\n",
      "\n",
      "See the caveats in the documentation: https://pandas.pydata.org/pandas-docs/stable/user_guide/indexing.html#returning-a-view-versus-a-copy\n",
      "  df_no_missing['price'] = df_no_missing['price'].astype(int)\n"
     ]
    },
    {
     "data": {
      "text/plain": [
       "array([ 235,  110,   90,   65,   66,   73,   60,   80,   48,  185,  325,\n",
       "        290,   75,   24,   79,  220,   45,   57,   62,  105,   15,   37,\n",
       "         22,   42,  135,   29,   23,   17,   26,   55,   39,   69,   30,\n",
       "         50,   40,  100,   68,   28,   18,   25,   36,   38,   85,   19,\n",
       "         54,   59,   10,   12,   13,   14,   20,  125,    7,   49,   93,\n",
       "         32,   16,   21,   44,   35,   61,   34,   11,   58,  120,   41,\n",
       "        200,   43,    9,   56,   46,   92,   94,   27,   95,   33,   70,\n",
       "        155,   63,  130,  115,   31,   98,   52,   64,   91,  111,   88,\n",
       "         74,   77,   87,  113,  140,  500,   51,  150,  240,   72,  103,\n",
       "          8,  136,  141,  102,   47,   53,   96,   78,  149,  138,  117,\n",
       "          4,   99,  848,  450,  330,  175,   89,   82,   71,  137,  145,\n",
       "        698,  160,  770,  118,  238,  202,  250,  165,   83,  107,   76,\n",
       "         67,  128,  119,  129,  180,    6,  225,    5,  152,   84,   86,\n",
       "        124,   97,  365,  179,  350,  195,  300,  156,  315,  187,  520,\n",
       "        170,  428,  257,  294,  166,  226,  280,  380,  740,  108,  391,\n",
       "        282,  312,  123,  131,  196,  850,  600,  237,  227,  351,  415,\n",
       "       1100,  104,  127,  106,  258,  375,  320,  980,  112,  101,  230,\n",
       "        142,  468,  639,  288,  281,  357,  208,  199,  307,  159,  168,\n",
       "        133,  310,  215,  670,  122,  245,  463,  260, 2013,  239,  400,\n",
       "        269,  214,  625,   81,  270,  345,  316,  205,  410,  275,  126,\n",
       "        764,  190,  153,  183,  212,  167,  169,  285,  279,  249,  299,\n",
       "        229,  360,  460,  800,  139, 1400,  385,  390,  252,  109,  154,\n",
       "        134,  295,  445,  612,  271,  228,  448,  292,  440,  376,  231,\n",
       "        114,  349,  399,  163,  210,  116,  151,  148,  162,  191,  173,\n",
       "        318,  550,  510,  660,  685,  182,  775,  323,  419,  132, 2300,\n",
       "       1900, 1300, 1200,  236,  412, 1000,  545,  243,  143,  426,  588,\n",
       "        204,  265,  158,  174,  247,  164,  430,  194,  261,  147,  451,\n",
       "        574,  544,  273,  189,  317,  248,  177,  176,  144,  197,  157,\n",
       "        289,  505,  198,  146,  411,  757,  259,  535,  328,  206,  216,\n",
       "        354,  495,  193,  525,  256,  475,  398,  530,  181,  255,  420,\n",
       "        266,  121,  246,  599,  178,  335,  900,  222,  171,  486,  203,\n",
       "        395,  303,  319,  268,  211,  467,  293,  224,  283,  596,  253,\n",
       "        455,  580,  184,  172,  217])"
      ]
     },
     "execution_count": 3,
     "metadata": {},
     "output_type": "execute_result"
    }
   ],
   "source": [
    "\n",
    "df_no_missing = df.loc[pd.isna(df['price'])==False]\n",
    "df_no_missing['price'] = df_no_missing['price'].astype(int)\n",
    "df_no_missing['price'].unique()\n"
   ]
  },
  {
   "cell_type": "code",
   "execution_count": 6,
   "metadata": {},
   "outputs": [
    {
     "data": {
      "text/plain": [
       "array([ 96,  95,  94,  90,  91,  86,  89,  88,  87,  93,  92,  85,  84,\n",
       "        83,  82,  81, 100,  99,  98,  97,  80], dtype=int64)"
      ]
     },
     "execution_count": 6,
     "metadata": {},
     "output_type": "execute_result"
    }
   ],
   "source": [
    "df_no_missing['points'].unique()\n"
   ]
  },
  {
   "cell_type": "code",
   "execution_count": 7,
   "metadata": {},
   "outputs": [
    {
     "data": {
      "text/plain": [
       "True"
      ]
     },
     "execution_count": 7,
     "metadata": {},
     "output_type": "execute_result"
    }
   ],
   "source": [
    "df_no_missing.isnull().values.any()\n"
   ]
  },
  {
   "cell_type": "code",
   "execution_count": 8,
   "metadata": {},
   "outputs": [
    {
     "data": {
      "text/plain": [
       "array([[<matplotlib.axes._subplots.AxesSubplot object at 0x00000274D87C8D00>,\n",
       "        <matplotlib.axes._subplots.AxesSubplot object at 0x00000274D85E01F0>]],\n",
       "      dtype=object)"
      ]
     },
     "execution_count": 8,
     "metadata": {},
     "output_type": "execute_result"
    },
    {
     "data": {
      "image/png": "[encoded data removed]",
      "text/plain": [
       "<Figure size 432x288 with 2 Axes>"
      ]
     },
     "metadata": {
      "needs_background": "light"
     },
     "output_type": "display_data"
    }
   ],
   "source": [
    "df_no_missing.hist()\n"
   ]
  },
  {
   "cell_type": "code",
   "execution_count": null,
   "metadata": {},
   "outputs": [],
   "source": [
    "\n"
   ]
  },
  {
   "cell_type": "code",
   "execution_count": 9,
   "metadata": {},
   "outputs": [
    {
     "data": {
      "text/plain": [
       "<matplotlib.collections.PathCollection at 0x274db223d00>"
      ]
     },
     "execution_count": 9,
     "metadata": {},
     "output_type": "execute_result"
    },
    {
     "data": {
      "image/png": "[encoded data removed]",
      "text/plain": [
       "<Figure size 432x288 with 1 Axes>"
      ]
     },
     "metadata": {
      "needs_background": "light"
     },
     "output_type": "display_data"
    }
   ],
   "source": [
    "plt.scatter(df_no_missing['points'], df_no_missing['price'])"
   ]
  },
  {
   "cell_type": "code",
   "execution_count": 11,
   "metadata": {},
   "outputs": [
    {
     "name": "stdout",
     "output_type": "stream",
     "text": [
      "[0.21892753874537796, 0.1918353396754383, 0.22075665724154825]\n"
     ]
    }
   ],
   "source": [
    "X = pd.DataFrame(df_no_missing['price'])\n",
    "y = pd.DataFrame(df_no_missing['points'])\n",
    "model = LinearRegression()\n",
    "scores = []\n",
    "kfold = KFold(n_splits=3, shuffle=True, random_state=42)\n",
    "for i, (train, test) in enumerate(kfold.split(X, y)):\n",
    " model.fit(X.iloc[train,:], y.iloc[train,:])\n",
    " score = model.score(X.iloc[test,:], y.iloc[test,:])\n",
    " scores.append(score)\n",
    "print(scores)"
   ]
  },
  {
   "cell_type": "code",
   "execution_count": null,
   "metadata": {},
   "outputs": [],
   "source": []
  }
 ],
 "metadata": {
  "kernelspec": {
   "display_name": "Python 3",
   "language": "python",
   "name": "python3"
  },
  "language_info": {
   "codemirror_mode": {
    "name": "ipython",
    "version": 3
   },
   "file_extension": ".py",
   "mimetype": "text/x-python",
   "name": "python",
   "nbconvert_exporter": "python",
   "pygments_lexer": "ipython3",
   "version": "3.8.3"
  }
 },
 "nbformat": 4,
 "nbformat_minor": 4
}
