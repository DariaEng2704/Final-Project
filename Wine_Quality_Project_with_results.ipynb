{
  "nbformat": 4,
  "nbformat_minor": 0,
  "metadata": {
    "kernelspec": {
      "display_name": "Python 3",
      "language": "python",
      "name": "python3"
    },
    "language_info": {
      "codemirror_mode": {
        "name": "ipython",
        "version": 3
      },
      "file_extension": ".py",
      "mimetype": "text/x-python",
      "name": "python",
      "nbconvert_exporter": "python",
      "pygments_lexer": "ipython3",
      "version": "3.8.3"
    },
    "colab": {
      "name": "Copy of Wine Testing Final Project (1).ipynb",
      "provenance": [],
      "collapsed_sections": [],
      "include_colab_link": true
    },
    "accelerator": "TPU"
  },
  "cells": [
    {
      "cell_type": "markdown",
      "metadata": {
        "id": "view-in-github",
        "colab_type": "text"
      },
      "source": [
        "<a href=\"https://colab.research.google.com/github/DariaEng2704/Final-Project/blob/main/Wine_Testing_Project_with_results.ipynb\" target=\"_parent\"><img src=\"https://colab.research.google.com/assets/colab-badge.svg\" alt=\"Open In Colab\"/></a>"
      ]
    },
    {
      "cell_type": "markdown",
      "metadata": {
        "id": "NdaFGHD-xvfC"
      },
      "source": [
        "# ***Quality of Wine - She Codes Final Project***\n",
        "\n",
        "\n",
        "\n",
        "by Daria Engel\n"
      ]
    },
    {
      "cell_type": "markdown",
      "metadata": {
        "id": "ybcxsSUdxvfI"
      },
      "source": [
        "The current project will provide supervised predictive models to identify the quality of wines, based on a variety of parameters, as country of origin, price, and variety of the wine. \n",
        "The provided models will help us to predict the quality of a wine, and therefore, help us to understand is it worth buying. \n"
      ]
    },
    {
      "cell_type": "markdown",
      "metadata": {
        "id": "1WIvX1pLxvfK"
      },
      "source": [
        "# **Import the modules**"
      ]
    },
    {
      "cell_type": "code",
      "metadata": {
        "id": "wNNPAqzTxvfK",
        "colab": {
          "base_uri": "https://localhost:8080/"
        },
        "outputId": "6141e64f-4e98-40a7-b6eb-e040f5a06599"
      },
      "source": [
        "import pandas as pd\n",
        "import numpy as np\n",
        "from scipy import stats\n",
        "from datetime import datetime\n",
        "from sklearn import preprocessing\n",
        "from sklearn.model_selection import KFold\n",
        "from sklearn.linear_model import LinearRegression\n",
        "import matplotlib.pyplot as plt\n",
        "%matplotlib inline\n",
        "import pandas as pd\n",
        "from scipy.stats import zscore\n",
        "from sklearn.model_selection import train_test_split\n",
        "import matplotlib.pyplot as plt\n",
        "import numpy as np\n",
        "import tensorflow.keras\n",
        "import seaborn as sb\n",
        "import matplotlib.pyplot as plt\n",
        "from matplotlib import style\n",
        "from tensorflow.keras.models import Sequential\n",
        "from tensorflow.keras.layers import Dense, Activation\n",
        "from tensorflow.keras.callbacks import EarlyStopping\n",
        "from sklearn import metrics\n",
        "from sklearn.metrics import r2_score\n",
        "import xgboost as xgb\n",
        "from sklearn.metrics import mean_squared_error\n",
        "from sklearn.naive_bayes import GaussianNB\n",
        "from sklearn.linear_model import LogisticRegression\n",
        "import statsmodels.api as sm\n",
        "from termcolor import colored as cl\n",
        "from sklearn.model_selection import cross_val_score \n",
        "from sklearn.metrics import confusion_matrix \n",
        "from sklearn.metrics import plot_confusion_matrix \n",
        "import matplotlib.pyplot as plt\n",
        "import itertools\n",
        "from sklearn.metrics import classification_report\n",
        "\n",
        "try:\n",
        "    %tensorflow_version 2.x\n",
        "    COLAB = True\n",
        "    print(\"Note: using Google CoLab\")\n",
        "except:\n",
        "    print(\"Note: not using Google CoLab\")\n",
        "    COLAB = False"
      ],
      "execution_count": 2,
      "outputs": [
        {
          "output_type": "stream",
          "text": [
            "/usr/local/lib/python3.7/dist-packages/statsmodels/tools/_testing.py:19: FutureWarning: pandas.util.testing is deprecated. Use the functions in the public API at pandas.testing instead.\n",
            "  import pandas.util.testing as tm\n"
          ],
          "name": "stderr"
        },
        {
          "output_type": "stream",
          "text": [
            "Note: using Google CoLab\n"
          ],
          "name": "stdout"
        }
      ]
    },
    {
      "cell_type": "markdown",
      "metadata": {
        "id": "oR01O4o7xvfL"
      },
      "source": [
        "\n",
        "\n",
        "# **Import the data**\n",
        "\n",
        "\n",
        "We will load in a dataset from the **[Kaggle website](https://www.kaggle.com/)**.\n",
        "Specifically, we are going to use the **[Wine Reviews Dataset](https://www.kaggle.com/zynicide/wine-reviews?select=winemag-data-130k-v2.csv)**."
      ]
    },
    {
      "cell_type": "code",
      "metadata": {
        "id": "Oz8rvE-gxvfL",
        "colab": {
          "resources": {
            "http://localhost:8080/nbextensions/google.colab/files.js": {
              "data": "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",
              "ok": true,
              "headers": [
                [
                  "content-type",
                  "application/javascript"
                ]
              ],
              "status": 200,
              "status_text": ""
            }
          },
          "base_uri": "https://localhost:8080/",
          "height": 709
        },
        "outputId": "fdc42c9a-b44c-4703-e676-b8abff396011"
      },
      "source": [
        "from google.colab import files\n",
        "uploaded = files.upload()\n",
        "\n",
        "data = pd.read_csv('winemag-data-130k-v2.csv')\n",
        "df = pd.DataFrame(data)\n",
        "\n",
        "\n",
        "\n",
        "\n",
        "# Preview of the first 5 rows of the data:\n",
        "\n",
        "df.head()"
      ],
      "execution_count": 3,
      "outputs": [
        {
          "output_type": "display_data",
          "data": {
            "text/html": [
              "\n",
              "     <input type=\"file\" id=\"files-97d3f2be-adad-440b-af7d-d2311566a565\" name=\"files[]\" multiple disabled\n",
              "        style=\"border:none\" />\n",
              "     <output id=\"result-97d3f2be-adad-440b-af7d-d2311566a565\">\n",
              "      Upload widget is only available when the cell has been executed in the\n",
              "      current browser session. Please rerun this cell to enable.\n",
              "      </output>\n",
              "      <script src=\"/nbextensions/google.colab/files.js\"></script> "
            ],
            "text/plain": [
              "<IPython.core.display.HTML object>"
            ]
          },
          "metadata": {
            "tags": []
          }
        },
        {
          "output_type": "stream",
          "text": [
            "Saving winemag-data-130k-v2.csv to winemag-data-130k-v2.csv\n"
          ],
          "name": "stdout"
        },
        {
          "output_type": "execute_result",
          "data": {
            "text/html": [
              "<div>\n",
              "<style scoped>\n",
              "    .dataframe tbody tr th:only-of-type {\n",
              "        vertical-align: middle;\n",
              "    }\n",
              "\n",
              "    .dataframe tbody tr th {\n",
              "        vertical-align: top;\n",
              "    }\n",
              "\n",
              "    .dataframe thead th {\n",
              "        text-align: right;\n",
              "    }\n",
              "</style>\n",
              "<table border=\"1\" class=\"dataframe\">\n",
              "  <thead>\n",
              "    <tr style=\"text-align: right;\">\n",
              "      <th></th>\n",
              "      <th>Unnamed: 0</th>\n",
              "      <th>country</th>\n",
              "      <th>description</th>\n",
              "      <th>designation</th>\n",
              "      <th>points</th>\n",
              "      <th>price</th>\n",
              "      <th>province</th>\n",
              "      <th>region_1</th>\n",
              "      <th>region_2</th>\n",
              "      <th>taster_name</th>\n",
              "      <th>taster_twitter_handle</th>\n",
              "      <th>title</th>\n",
              "      <th>variety</th>\n",
              "      <th>winery</th>\n",
              "    </tr>\n",
              "  </thead>\n",
              "  <tbody>\n",
              "    <tr>\n",
              "      <th>0</th>\n",
              "      <td>0</td>\n",
              "      <td>Italy</td>\n",
              "      <td>Aromas include tropical fruit, broom, brimston...</td>\n",
              "      <td>Vulkà Bianco</td>\n",
              "      <td>87</td>\n",
              "      <td>NaN</td>\n",
              "      <td>Sicily &amp; Sardinia</td>\n",
              "      <td>Etna</td>\n",
              "      <td>NaN</td>\n",
              "      <td>Kerin O’Keefe</td>\n",
              "      <td>@kerinokeefe</td>\n",
              "      <td>Nicosia 2013 Vulkà Bianco  (Etna)</td>\n",
              "      <td>White Blend</td>\n",
              "      <td>Nicosia</td>\n",
              "    </tr>\n",
              "    <tr>\n",
              "      <th>1</th>\n",
              "      <td>1</td>\n",
              "      <td>Portugal</td>\n",
              "      <td>This is ripe and fruity, a wine that is smooth...</td>\n",
              "      <td>Avidagos</td>\n",
              "      <td>87</td>\n",
              "      <td>15.0</td>\n",
              "      <td>Douro</td>\n",
              "      <td>NaN</td>\n",
              "      <td>NaN</td>\n",
              "      <td>Roger Voss</td>\n",
              "      <td>@vossroger</td>\n",
              "      <td>Quinta dos Avidagos 2011 Avidagos Red (Douro)</td>\n",
              "      <td>Portuguese Red</td>\n",
              "      <td>Quinta dos Avidagos</td>\n",
              "    </tr>\n",
              "    <tr>\n",
              "      <th>2</th>\n",
              "      <td>2</td>\n",
              "      <td>US</td>\n",
              "      <td>Tart and snappy, the flavors of lime flesh and...</td>\n",
              "      <td>NaN</td>\n",
              "      <td>87</td>\n",
              "      <td>14.0</td>\n",
              "      <td>Oregon</td>\n",
              "      <td>Willamette Valley</td>\n",
              "      <td>Willamette Valley</td>\n",
              "      <td>Paul Gregutt</td>\n",
              "      <td>@paulgwine</td>\n",
              "      <td>Rainstorm 2013 Pinot Gris (Willamette Valley)</td>\n",
              "      <td>Pinot Gris</td>\n",
              "      <td>Rainstorm</td>\n",
              "    </tr>\n",
              "    <tr>\n",
              "      <th>3</th>\n",
              "      <td>3</td>\n",
              "      <td>US</td>\n",
              "      <td>Pineapple rind, lemon pith and orange blossom ...</td>\n",
              "      <td>Reserve Late Harvest</td>\n",
              "      <td>87</td>\n",
              "      <td>13.0</td>\n",
              "      <td>Michigan</td>\n",
              "      <td>Lake Michigan Shore</td>\n",
              "      <td>NaN</td>\n",
              "      <td>Alexander Peartree</td>\n",
              "      <td>NaN</td>\n",
              "      <td>St. Julian 2013 Reserve Late Harvest Riesling ...</td>\n",
              "      <td>Riesling</td>\n",
              "      <td>St. Julian</td>\n",
              "    </tr>\n",
              "    <tr>\n",
              "      <th>4</th>\n",
              "      <td>4</td>\n",
              "      <td>US</td>\n",
              "      <td>Much like the regular bottling from 2012, this...</td>\n",
              "      <td>Vintner's Reserve Wild Child Block</td>\n",
              "      <td>87</td>\n",
              "      <td>65.0</td>\n",
              "      <td>Oregon</td>\n",
              "      <td>Willamette Valley</td>\n",
              "      <td>Willamette Valley</td>\n",
              "      <td>Paul Gregutt</td>\n",
              "      <td>@paulgwine</td>\n",
              "      <td>Sweet Cheeks 2012 Vintner's Reserve Wild Child...</td>\n",
              "      <td>Pinot Noir</td>\n",
              "      <td>Sweet Cheeks</td>\n",
              "    </tr>\n",
              "  </tbody>\n",
              "</table>\n",
              "</div>"
            ],
            "text/plain": [
              "   Unnamed: 0   country  ...         variety               winery\n",
              "0           0     Italy  ...     White Blend              Nicosia\n",
              "1           1  Portugal  ...  Portuguese Red  Quinta dos Avidagos\n",
              "2           2        US  ...      Pinot Gris            Rainstorm\n",
              "3           3        US  ...        Riesling           St. Julian\n",
              "4           4        US  ...      Pinot Noir         Sweet Cheeks\n",
              "\n",
              "[5 rows x 14 columns]"
            ]
          },
          "metadata": {
            "tags": []
          },
          "execution_count": 3
        }
      ]
    },
    {
      "cell_type": "code",
      "metadata": {
        "id": "MCRSlYqoxvfM",
        "colab": {
          "base_uri": "https://localhost:8080/",
          "height": 636
        },
        "outputId": "21d2c478-7914-4800-a5b9-45b2e177b181"
      },
      "source": [
        "# We will remove the first column, which contains the numbering of the rows.\n",
        "\n",
        "df = df.drop(df.columns[0], axis=1) \n",
        "df.head()"
      ],
      "execution_count": 4,
      "outputs": [
        {
          "output_type": "execute_result",
          "data": {
            "text/html": [
              "<div>\n",
              "<style scoped>\n",
              "    .dataframe tbody tr th:only-of-type {\n",
              "        vertical-align: middle;\n",
              "    }\n",
              "\n",
              "    .dataframe tbody tr th {\n",
              "        vertical-align: top;\n",
              "    }\n",
              "\n",
              "    .dataframe thead th {\n",
              "        text-align: right;\n",
              "    }\n",
              "</style>\n",
              "<table border=\"1\" class=\"dataframe\">\n",
              "  <thead>\n",
              "    <tr style=\"text-align: right;\">\n",
              "      <th></th>\n",
              "      <th>country</th>\n",
              "      <th>description</th>\n",
              "      <th>designation</th>\n",
              "      <th>points</th>\n",
              "      <th>price</th>\n",
              "      <th>province</th>\n",
              "      <th>region_1</th>\n",
              "      <th>region_2</th>\n",
              "      <th>taster_name</th>\n",
              "      <th>taster_twitter_handle</th>\n",
              "      <th>title</th>\n",
              "      <th>variety</th>\n",
              "      <th>winery</th>\n",
              "    </tr>\n",
              "  </thead>\n",
              "  <tbody>\n",
              "    <tr>\n",
              "      <th>0</th>\n",
              "      <td>Italy</td>\n",
              "      <td>Aromas include tropical fruit, broom, brimston...</td>\n",
              "      <td>Vulkà Bianco</td>\n",
              "      <td>87</td>\n",
              "      <td>NaN</td>\n",
              "      <td>Sicily &amp; Sardinia</td>\n",
              "      <td>Etna</td>\n",
              "      <td>NaN</td>\n",
              "      <td>Kerin O’Keefe</td>\n",
              "      <td>@kerinokeefe</td>\n",
              "      <td>Nicosia 2013 Vulkà Bianco  (Etna)</td>\n",
              "      <td>White Blend</td>\n",
              "      <td>Nicosia</td>\n",
              "    </tr>\n",
              "    <tr>\n",
              "      <th>1</th>\n",
              "      <td>Portugal</td>\n",
              "      <td>This is ripe and fruity, a wine that is smooth...</td>\n",
              "      <td>Avidagos</td>\n",
              "      <td>87</td>\n",
              "      <td>15.0</td>\n",
              "      <td>Douro</td>\n",
              "      <td>NaN</td>\n",
              "      <td>NaN</td>\n",
              "      <td>Roger Voss</td>\n",
              "      <td>@vossroger</td>\n",
              "      <td>Quinta dos Avidagos 2011 Avidagos Red (Douro)</td>\n",
              "      <td>Portuguese Red</td>\n",
              "      <td>Quinta dos Avidagos</td>\n",
              "    </tr>\n",
              "    <tr>\n",
              "      <th>2</th>\n",
              "      <td>US</td>\n",
              "      <td>Tart and snappy, the flavors of lime flesh and...</td>\n",
              "      <td>NaN</td>\n",
              "      <td>87</td>\n",
              "      <td>14.0</td>\n",
              "      <td>Oregon</td>\n",
              "      <td>Willamette Valley</td>\n",
              "      <td>Willamette Valley</td>\n",
              "      <td>Paul Gregutt</td>\n",
              "      <td>@paulgwine</td>\n",
              "      <td>Rainstorm 2013 Pinot Gris (Willamette Valley)</td>\n",
              "      <td>Pinot Gris</td>\n",
              "      <td>Rainstorm</td>\n",
              "    </tr>\n",
              "    <tr>\n",
              "      <th>3</th>\n",
              "      <td>US</td>\n",
              "      <td>Pineapple rind, lemon pith and orange blossom ...</td>\n",
              "      <td>Reserve Late Harvest</td>\n",
              "      <td>87</td>\n",
              "      <td>13.0</td>\n",
              "      <td>Michigan</td>\n",
              "      <td>Lake Michigan Shore</td>\n",
              "      <td>NaN</td>\n",
              "      <td>Alexander Peartree</td>\n",
              "      <td>NaN</td>\n",
              "      <td>St. Julian 2013 Reserve Late Harvest Riesling ...</td>\n",
              "      <td>Riesling</td>\n",
              "      <td>St. Julian</td>\n",
              "    </tr>\n",
              "    <tr>\n",
              "      <th>4</th>\n",
              "      <td>US</td>\n",
              "      <td>Much like the regular bottling from 2012, this...</td>\n",
              "      <td>Vintner's Reserve Wild Child Block</td>\n",
              "      <td>87</td>\n",
              "      <td>65.0</td>\n",
              "      <td>Oregon</td>\n",
              "      <td>Willamette Valley</td>\n",
              "      <td>Willamette Valley</td>\n",
              "      <td>Paul Gregutt</td>\n",
              "      <td>@paulgwine</td>\n",
              "      <td>Sweet Cheeks 2012 Vintner's Reserve Wild Child...</td>\n",
              "      <td>Pinot Noir</td>\n",
              "      <td>Sweet Cheeks</td>\n",
              "    </tr>\n",
              "  </tbody>\n",
              "</table>\n",
              "</div>"
            ],
            "text/plain": [
              "    country  ...               winery\n",
              "0     Italy  ...              Nicosia\n",
              "1  Portugal  ...  Quinta dos Avidagos\n",
              "2        US  ...            Rainstorm\n",
              "3        US  ...           St. Julian\n",
              "4        US  ...         Sweet Cheeks\n",
              "\n",
              "[5 rows x 13 columns]"
            ]
          },
          "metadata": {
            "tags": []
          },
          "execution_count": 4
        }
      ]
    },
    {
      "cell_type": "markdown",
      "metadata": {
        "id": "gwxlhV-oxvfM"
      },
      "source": [
        "The columns included in the data are : \n",
        "\n",
        "+ **country** - the country the wine comes from.\n",
        "+ **description** - the description of the wine by the taster.\n",
        "+ **designation** - the vineyard within the winery provided the grapes for the wine.\n",
        "+ **points** - the number of points the taster rated the wine on a scale of 1-100 (the current dataset includes only a range of 80-100 as the website which provided the datadset posts those scores only. \n",
        "+ **price** - the cost of a bottle of wine.\n",
        "+ **province** - the province or state the wine comes from.\n",
        "+ **region_1** - the wine-growing area in a province or state.\n",
        "+ **region_2** - specific regions specified within a wine-growing area.\n",
        "+ **taster_name** - the name of the taster of the wine. \n",
        "+ **taster_twitter_handle** - the Twitter username of the taster.\n",
        "+ **title** - the title of the wine.\n",
        "+ **variety** - the variety of the wine.\n",
        "+ **winery** - the winery the wine was made by. \n"
      ]
    },
    {
      "cell_type": "markdown",
      "metadata": {
        "id": "SakmfSqNxvfM"
      },
      "source": [
        "# **Identifying Missing Data**\n",
        "\n",
        "In the current section, we will focus on identifying the missing data in the dataset. \n",
        "First, we will check the type of data in each column :"
      ]
    },
    {
      "cell_type": "code",
      "metadata": {
        "id": "t-s0SAZbxvfN",
        "colab": {
          "base_uri": "https://localhost:8080/"
        },
        "outputId": "5f923e4d-10d9-42dd-b360-8d62b543ce33"
      },
      "source": [
        "df.dtypes"
      ],
      "execution_count": 5,
      "outputs": [
        {
          "output_type": "execute_result",
          "data": {
            "text/plain": [
              "country                   object\n",
              "description               object\n",
              "designation               object\n",
              "points                     int64\n",
              "price                    float64\n",
              "province                  object\n",
              "region_1                  object\n",
              "region_2                  object\n",
              "taster_name               object\n",
              "taster_twitter_handle     object\n",
              "title                     object\n",
              "variety                   object\n",
              "winery                    object\n",
              "dtype: object"
            ]
          },
          "metadata": {
            "tags": []
          },
          "execution_count": 5
        }
      ]
    },
    {
      "cell_type": "markdown",
      "metadata": {
        "id": "GgpfBmbOxvfN"
      },
      "source": [
        "After checking that all the suggested data types are matching the real data types, we will drop the duplicate samples -  \n"
      ]
    },
    {
      "cell_type": "code",
      "metadata": {
        "id": "xfbD5J5FxvfN",
        "colab": {
          "base_uri": "https://localhost:8080/"
        },
        "outputId": "18afd6f4-28af-4a4b-c1be-cc757c415a8f"
      },
      "source": [
        "print (\"Data size prior duplicates removal: \" + str(len(df.axes[0])) + \" rows and \" + str(len(df.axes[1])) + \" columns.\")\n",
        "df = df.drop_duplicates()\n",
        "print (\"Data size after duplicates removal: \" + str(len(df.axes[0])) + \" rows and \" + str(len(df.axes[1])) + \" columns.\")"
      ],
      "execution_count": 6,
      "outputs": [
        {
          "output_type": "stream",
          "text": [
            "Data size prior duplicates removal: 129971 rows and 13 columns.\n",
            "Data size after duplicates removal: 119988 rows and 13 columns.\n"
          ],
          "name": "stdout"
        }
      ]
    },
    {
      "cell_type": "markdown",
      "metadata": {
        "id": "t4BpKxtXefG5"
      },
      "source": [
        "Now, we will make a summary table with  \n",
        " + Features with missing data\n",
        " + The percent of the missing data for each feature\n",
        " + How many unique values each feature have"
      ]
    },
    {
      "cell_type": "code",
      "metadata": {
        "id": "IprLVxRaxvfO",
        "colab": {
          "base_uri": "https://localhost:8080/",
          "height": 454
        },
        "outputId": "c6827293-074a-4c3f-ad27-f26c6a57f2f9"
      },
      "source": [
        "nulls = df.isnull().sum()\n",
        "percentage_nulls = 100 * nulls / len(df)\n",
        "data_types = df.dtypes\n",
        "unique_values = df.nunique()\n",
        "missing_values_table = pd.concat([nulls, percentage_nulls,unique_values, data_types], axis=1)\n",
        "missing_values_table = missing_values_table.rename(columns = {0 : 'Missing Values', 1 : 'Percentage', 2: 'Unique Values', 3 : 'Data Types'})\n",
        "missing_values_table"
      ],
      "execution_count": 7,
      "outputs": [
        {
          "output_type": "execute_result",
          "data": {
            "text/html": [
              "<div>\n",
              "<style scoped>\n",
              "    .dataframe tbody tr th:only-of-type {\n",
              "        vertical-align: middle;\n",
              "    }\n",
              "\n",
              "    .dataframe tbody tr th {\n",
              "        vertical-align: top;\n",
              "    }\n",
              "\n",
              "    .dataframe thead th {\n",
              "        text-align: right;\n",
              "    }\n",
              "</style>\n",
              "<table border=\"1\" class=\"dataframe\">\n",
              "  <thead>\n",
              "    <tr style=\"text-align: right;\">\n",
              "      <th></th>\n",
              "      <th>Missing Values</th>\n",
              "      <th>Percentage</th>\n",
              "      <th>Unique Values</th>\n",
              "      <th>Data Types</th>\n",
              "    </tr>\n",
              "  </thead>\n",
              "  <tbody>\n",
              "    <tr>\n",
              "      <th>country</th>\n",
              "      <td>59</td>\n",
              "      <td>0.049172</td>\n",
              "      <td>43</td>\n",
              "      <td>object</td>\n",
              "    </tr>\n",
              "    <tr>\n",
              "      <th>description</th>\n",
              "      <td>0</td>\n",
              "      <td>0.000000</td>\n",
              "      <td>119955</td>\n",
              "      <td>object</td>\n",
              "    </tr>\n",
              "    <tr>\n",
              "      <th>designation</th>\n",
              "      <td>34545</td>\n",
              "      <td>28.790379</td>\n",
              "      <td>37979</td>\n",
              "      <td>object</td>\n",
              "    </tr>\n",
              "    <tr>\n",
              "      <th>points</th>\n",
              "      <td>0</td>\n",
              "      <td>0.000000</td>\n",
              "      <td>21</td>\n",
              "      <td>int64</td>\n",
              "    </tr>\n",
              "    <tr>\n",
              "      <th>price</th>\n",
              "      <td>8395</td>\n",
              "      <td>6.996533</td>\n",
              "      <td>390</td>\n",
              "      <td>float64</td>\n",
              "    </tr>\n",
              "    <tr>\n",
              "      <th>province</th>\n",
              "      <td>59</td>\n",
              "      <td>0.049172</td>\n",
              "      <td>425</td>\n",
              "      <td>object</td>\n",
              "    </tr>\n",
              "    <tr>\n",
              "      <th>region_1</th>\n",
              "      <td>19560</td>\n",
              "      <td>16.301630</td>\n",
              "      <td>1229</td>\n",
              "      <td>object</td>\n",
              "    </tr>\n",
              "    <tr>\n",
              "      <th>region_2</th>\n",
              "      <td>73219</td>\n",
              "      <td>61.021936</td>\n",
              "      <td>17</td>\n",
              "      <td>object</td>\n",
              "    </tr>\n",
              "    <tr>\n",
              "      <th>taster_name</th>\n",
              "      <td>24917</td>\n",
              "      <td>20.766243</td>\n",
              "      <td>19</td>\n",
              "      <td>object</td>\n",
              "    </tr>\n",
              "    <tr>\n",
              "      <th>taster_twitter_handle</th>\n",
              "      <td>29446</td>\n",
              "      <td>24.540787</td>\n",
              "      <td>15</td>\n",
              "      <td>object</td>\n",
              "    </tr>\n",
              "    <tr>\n",
              "      <th>title</th>\n",
              "      <td>0</td>\n",
              "      <td>0.000000</td>\n",
              "      <td>118840</td>\n",
              "      <td>object</td>\n",
              "    </tr>\n",
              "    <tr>\n",
              "      <th>variety</th>\n",
              "      <td>1</td>\n",
              "      <td>0.000833</td>\n",
              "      <td>707</td>\n",
              "      <td>object</td>\n",
              "    </tr>\n",
              "    <tr>\n",
              "      <th>winery</th>\n",
              "      <td>0</td>\n",
              "      <td>0.000000</td>\n",
              "      <td>16757</td>\n",
              "      <td>object</td>\n",
              "    </tr>\n",
              "  </tbody>\n",
              "</table>\n",
              "</div>"
            ],
            "text/plain": [
              "                       Missing Values  Percentage  Unique Values Data Types\n",
              "country                            59    0.049172             43     object\n",
              "description                         0    0.000000         119955     object\n",
              "designation                     34545   28.790379          37979     object\n",
              "points                              0    0.000000             21      int64\n",
              "price                            8395    6.996533            390    float64\n",
              "province                           59    0.049172            425     object\n",
              "region_1                        19560   16.301630           1229     object\n",
              "region_2                        73219   61.021936             17     object\n",
              "taster_name                     24917   20.766243             19     object\n",
              "taster_twitter_handle           29446   24.540787             15     object\n",
              "title                               0    0.000000         118840     object\n",
              "variety                             1    0.000833            707     object\n",
              "winery                              0    0.000000          16757     object"
            ]
          },
          "metadata": {
            "tags": []
          },
          "execution_count": 7
        }
      ]
    },
    {
      "cell_type": "markdown",
      "metadata": {
        "id": "OB0pqvmzxvfO"
      },
      "source": [
        "# **Missing Data Imputation**\n",
        "\n",
        "#### First, we will start with **observations** dropping : \n",
        "  + The features **\"country\"**, **\"province\"** and **\"variety\"** have a negligible amount of missing values. Therefore, we will remove the samples with those values : "
      ]
    },
    {
      "cell_type": "code",
      "metadata": {
        "id": "Kd2Zsd2uxvfO",
        "colab": {
          "base_uri": "https://localhost:8080/"
        },
        "outputId": "201cc81e-0f0d-4a8a-b3f3-d11ed5a862c3"
      },
      "source": [
        "df_no_small_missing = df[(df['country'].notnull())  & (df['variety'].notnull()) & (df['province'].notnull())]\n",
        "df_no_small_missing.isnull().sum()"
      ],
      "execution_count": 8,
      "outputs": [
        {
          "output_type": "execute_result",
          "data": {
            "text/plain": [
              "country                      0\n",
              "description                  0\n",
              "designation              34534\n",
              "points                       0\n",
              "price                     8391\n",
              "province                     0\n",
              "region_1                 19500\n",
              "region_2                 73159\n",
              "taster_name              24916\n",
              "taster_twitter_handle    29445\n",
              "title                        0\n",
              "variety                      0\n",
              "winery                       0\n",
              "dtype: int64"
            ]
          },
          "metadata": {
            "tags": []
          },
          "execution_count": 8
        }
      ]
    },
    {
      "cell_type": "markdown",
      "metadata": {
        "id": "VG0IQFWpxvfO"
      },
      "source": [
        "#### Secondly, we will drop some **features** : \n",
        "\n",
        "+ The **\"designation\"** variable will not be used since 30% of the data is missing and the rest 70% includes many unique values (every second value is unique), which makes it not very useful to use. \n",
        "+ The **\"region_2\"** variable has a very high percentage of missing data (61%), so we will drop it. This variable only contains regions in the USA and irrelevant to all other countries (see below)."
      ]
    },
    {
      "cell_type": "code",
      "metadata": {
        "id": "YdMPknt4xvfP",
        "colab": {
          "base_uri": "https://localhost:8080/",
          "height": 282
        },
        "outputId": "fda8454e-bb97-450e-ce5c-887b0856c5a8"
      },
      "source": [
        "df_no_small_missing['region_2'].value_counts().plot(kind='barh')"
      ],
      "execution_count": 9,
      "outputs": [
        {
          "output_type": "execute_result",
          "data": {
            "text/plain": [
              "<matplotlib.axes._subplots.AxesSubplot at 0x7efef1f78ed0>"
            ]
          },
          "metadata": {
            "tags": []
          },
          "execution_count": 9
        },
        {
          "output_type": "display_data",
          "data": {
            "image/png": "[encoded data removed]",
            "text/plain": [
              "<Figure size 432x288 with 1 Axes>"
            ]
          },
          "metadata": {
            "tags": [],
            "needs_background": "light"
          }
        }
      ]
    },
    {
      "cell_type": "markdown",
      "metadata": {
        "id": "sQibYjZXxvfP"
      },
      "source": [
        "+ For now, we will also drop the **\"description\"** variable, since it requires an NLP model. \n",
        "+ The variables **\"title\"** and **\"taster_twitter_handle\"** will be dropped. \n",
        "  + \"title\" data is very specific and unique, which is not informative for the models. \n",
        "  + \"taster name\" is covered by the \"taster_name\" variable. "
      ]
    },
    {
      "cell_type": "code",
      "metadata": {
        "id": "YQEq-Ga6xvfP",
        "colab": {
          "base_uri": "https://localhost:8080/",
          "height": 205
        },
        "outputId": "16197686-fdc6-45b8-8845-4b8c28ed43e2"
      },
      "source": [
        "# Drop of all mentioned above columns \n",
        "\n",
        "df_relevant_features = df_no_small_missing.drop(['description','designation','region_2','title','taster_twitter_handle'], axis=1) \n",
        "df_relevant_features.head()"
      ],
      "execution_count": 10,
      "outputs": [
        {
          "output_type": "execute_result",
          "data": {
            "text/html": [
              "<div>\n",
              "<style scoped>\n",
              "    .dataframe tbody tr th:only-of-type {\n",
              "        vertical-align: middle;\n",
              "    }\n",
              "\n",
              "    .dataframe tbody tr th {\n",
              "        vertical-align: top;\n",
              "    }\n",
              "\n",
              "    .dataframe thead th {\n",
              "        text-align: right;\n",
              "    }\n",
              "</style>\n",
              "<table border=\"1\" class=\"dataframe\">\n",
              "  <thead>\n",
              "    <tr style=\"text-align: right;\">\n",
              "      <th></th>\n",
              "      <th>country</th>\n",
              "      <th>points</th>\n",
              "      <th>price</th>\n",
              "      <th>province</th>\n",
              "      <th>region_1</th>\n",
              "      <th>taster_name</th>\n",
              "      <th>variety</th>\n",
              "      <th>winery</th>\n",
              "    </tr>\n",
              "  </thead>\n",
              "  <tbody>\n",
              "    <tr>\n",
              "      <th>0</th>\n",
              "      <td>Italy</td>\n",
              "      <td>87</td>\n",
              "      <td>NaN</td>\n",
              "      <td>Sicily &amp; Sardinia</td>\n",
              "      <td>Etna</td>\n",
              "      <td>Kerin O’Keefe</td>\n",
              "      <td>White Blend</td>\n",
              "      <td>Nicosia</td>\n",
              "    </tr>\n",
              "    <tr>\n",
              "      <th>1</th>\n",
              "      <td>Portugal</td>\n",
              "      <td>87</td>\n",
              "      <td>15.0</td>\n",
              "      <td>Douro</td>\n",
              "      <td>NaN</td>\n",
              "      <td>Roger Voss</td>\n",
              "      <td>Portuguese Red</td>\n",
              "      <td>Quinta dos Avidagos</td>\n",
              "    </tr>\n",
              "    <tr>\n",
              "      <th>2</th>\n",
              "      <td>US</td>\n",
              "      <td>87</td>\n",
              "      <td>14.0</td>\n",
              "      <td>Oregon</td>\n",
              "      <td>Willamette Valley</td>\n",
              "      <td>Paul Gregutt</td>\n",
              "      <td>Pinot Gris</td>\n",
              "      <td>Rainstorm</td>\n",
              "    </tr>\n",
              "    <tr>\n",
              "      <th>3</th>\n",
              "      <td>US</td>\n",
              "      <td>87</td>\n",
              "      <td>13.0</td>\n",
              "      <td>Michigan</td>\n",
              "      <td>Lake Michigan Shore</td>\n",
              "      <td>Alexander Peartree</td>\n",
              "      <td>Riesling</td>\n",
              "      <td>St. Julian</td>\n",
              "    </tr>\n",
              "    <tr>\n",
              "      <th>4</th>\n",
              "      <td>US</td>\n",
              "      <td>87</td>\n",
              "      <td>65.0</td>\n",
              "      <td>Oregon</td>\n",
              "      <td>Willamette Valley</td>\n",
              "      <td>Paul Gregutt</td>\n",
              "      <td>Pinot Noir</td>\n",
              "      <td>Sweet Cheeks</td>\n",
              "    </tr>\n",
              "  </tbody>\n",
              "</table>\n",
              "</div>"
            ],
            "text/plain": [
              "    country  points  ...         variety               winery\n",
              "0     Italy      87  ...     White Blend              Nicosia\n",
              "1  Portugal      87  ...  Portuguese Red  Quinta dos Avidagos\n",
              "2        US      87  ...      Pinot Gris            Rainstorm\n",
              "3        US      87  ...        Riesling           St. Julian\n",
              "4        US      87  ...      Pinot Noir         Sweet Cheeks\n",
              "\n",
              "[5 rows x 8 columns]"
            ]
          },
          "metadata": {
            "tags": []
          },
          "execution_count": 10
        }
      ]
    },
    {
      "cell_type": "code",
      "metadata": {
        "id": "lXpDwzIdxvfP",
        "colab": {
          "base_uri": "https://localhost:8080/",
          "height": 298
        },
        "outputId": "544d8396-5f2d-4068-e485-237e5a9f271a"
      },
      "source": [
        "nulls = df_relevant_features.isnull().sum()\n",
        "percentage_nulls = 100 * nulls / len(df_relevant_features)\n",
        "data_types = df_relevant_features.dtypes\n",
        "unique_values = df_relevant_features.nunique()\n",
        "missing_values_table = pd.concat([nulls, percentage_nulls,unique_values, data_types], axis=1)\n",
        "missing_values_table = missing_values_table.rename(columns = {0 : 'Missing Values', 1 : 'Percentage', 2: 'Unique Values', 3 : 'Data Types'})\n",
        "missing_values_table"
      ],
      "execution_count": 11,
      "outputs": [
        {
          "output_type": "execute_result",
          "data": {
            "text/html": [
              "<div>\n",
              "<style scoped>\n",
              "    .dataframe tbody tr th:only-of-type {\n",
              "        vertical-align: middle;\n",
              "    }\n",
              "\n",
              "    .dataframe tbody tr th {\n",
              "        vertical-align: top;\n",
              "    }\n",
              "\n",
              "    .dataframe thead th {\n",
              "        text-align: right;\n",
              "    }\n",
              "</style>\n",
              "<table border=\"1\" class=\"dataframe\">\n",
              "  <thead>\n",
              "    <tr style=\"text-align: right;\">\n",
              "      <th></th>\n",
              "      <th>Missing Values</th>\n",
              "      <th>Percentage</th>\n",
              "      <th>Unique Values</th>\n",
              "      <th>Data Types</th>\n",
              "    </tr>\n",
              "  </thead>\n",
              "  <tbody>\n",
              "    <tr>\n",
              "      <th>country</th>\n",
              "      <td>0</td>\n",
              "      <td>0.000000</td>\n",
              "      <td>43</td>\n",
              "      <td>object</td>\n",
              "    </tr>\n",
              "    <tr>\n",
              "      <th>points</th>\n",
              "      <td>0</td>\n",
              "      <td>0.000000</td>\n",
              "      <td>21</td>\n",
              "      <td>int64</td>\n",
              "    </tr>\n",
              "    <tr>\n",
              "      <th>price</th>\n",
              "      <td>8391</td>\n",
              "      <td>6.996698</td>\n",
              "      <td>390</td>\n",
              "      <td>float64</td>\n",
              "    </tr>\n",
              "    <tr>\n",
              "      <th>province</th>\n",
              "      <td>0</td>\n",
              "      <td>0.000000</td>\n",
              "      <td>425</td>\n",
              "      <td>object</td>\n",
              "    </tr>\n",
              "    <tr>\n",
              "      <th>region_1</th>\n",
              "      <td>19500</td>\n",
              "      <td>16.259756</td>\n",
              "      <td>1229</td>\n",
              "      <td>object</td>\n",
              "    </tr>\n",
              "    <tr>\n",
              "      <th>taster_name</th>\n",
              "      <td>24916</td>\n",
              "      <td>20.775799</td>\n",
              "      <td>19</td>\n",
              "      <td>object</td>\n",
              "    </tr>\n",
              "    <tr>\n",
              "      <th>variety</th>\n",
              "      <td>0</td>\n",
              "      <td>0.000000</td>\n",
              "      <td>701</td>\n",
              "      <td>object</td>\n",
              "    </tr>\n",
              "    <tr>\n",
              "      <th>winery</th>\n",
              "      <td>0</td>\n",
              "      <td>0.000000</td>\n",
              "      <td>16745</td>\n",
              "      <td>object</td>\n",
              "    </tr>\n",
              "  </tbody>\n",
              "</table>\n",
              "</div>"
            ],
            "text/plain": [
              "             Missing Values  Percentage  Unique Values Data Types\n",
              "country                   0    0.000000             43     object\n",
              "points                    0    0.000000             21      int64\n",
              "price                  8391    6.996698            390    float64\n",
              "province                  0    0.000000            425     object\n",
              "region_1              19500   16.259756           1229     object\n",
              "taster_name           24916   20.775799             19     object\n",
              "variety                   0    0.000000            701     object\n",
              "winery                    0    0.000000          16745     object"
            ]
          },
          "metadata": {
            "tags": []
          },
          "execution_count": 11
        }
      ]
    },
    {
      "cell_type": "markdown",
      "metadata": {
        "id": "bgHPykJ2xvfQ"
      },
      "source": [
        "## **Missing Data Imputaion - \"price\" variable** "
      ]
    },
    {
      "cell_type": "markdown",
      "metadata": {
        "id": "5hRGQwCWxvfQ"
      },
      "source": [
        "We will start by imputing the missing data in the \"price\" variable (integer). The missing values will be replaced with a median of a price in each province, with a belief that these groups are homogeneous enough to obtain relatively accurate results.\n"
      ]
    },
    {
      "cell_type": "code",
      "metadata": {
        "id": "2nFFIzXIxvfQ",
        "colab": {
          "base_uri": "https://localhost:8080/"
        },
        "outputId": "18b5b59a-ae56-468b-9f82-94c871e9026f"
      },
      "source": [
        "df_relevant_features['price'] = df_relevant_features.groupby('province')['price'].transform(lambda x: x.fillna(x.median()))\n",
        "print(df_relevant_features.isnull().sum())"
      ],
      "execution_count": 12,
      "outputs": [
        {
          "output_type": "stream",
          "text": [
            "country            0\n",
            "points             0\n",
            "price              3\n",
            "province           0\n",
            "region_1       19500\n",
            "taster_name    24916\n",
            "variety            0\n",
            "winery             0\n",
            "dtype: int64\n"
          ],
          "name": "stdout"
        }
      ]
    },
    {
      "cell_type": "markdown",
      "metadata": {
        "id": "MIgwwye_xvfQ"
      },
      "source": [
        "We left with 3 missing values for the \"price\" variable. As possible to see below, all three have only one value per province and this value is missing. \n"
      ]
    },
    {
      "cell_type": "code",
      "metadata": {
        "id": "C1NhXNh1xvfQ",
        "colab": {
          "base_uri": "https://localhost:8080/"
        },
        "outputId": "f5c8b7c5-8077-4fa1-f3b5-749a7eef7f60"
      },
      "source": [
        "print (df_relevant_features.loc[pd.isna(df_relevant_features['price'])]['province'].value_counts())\n"
      ],
      "execution_count": 13,
      "outputs": [
        {
          "output_type": "stream",
          "text": [
            "Ceres Plateau      1\n",
            "Piekenierskloof    1\n",
            "Egypt              1\n",
            "Name: province, dtype: int64\n"
          ],
          "name": "stdout"
        }
      ]
    },
    {
      "cell_type": "code",
      "metadata": {
        "id": "ldg99MG4xvfR",
        "colab": {
          "base_uri": "https://localhost:8080/",
          "height": 143
        },
        "outputId": "677c8dc0-0ca6-499b-f8d1-7c6281dc4231"
      },
      "source": [
        "df_relevant_features.loc[pd.isna(df_relevant_features['price'])]"
      ],
      "execution_count": 14,
      "outputs": [
        {
          "output_type": "execute_result",
          "data": {
            "text/html": [
              "<div>\n",
              "<style scoped>\n",
              "    .dataframe tbody tr th:only-of-type {\n",
              "        vertical-align: middle;\n",
              "    }\n",
              "\n",
              "    .dataframe tbody tr th {\n",
              "        vertical-align: top;\n",
              "    }\n",
              "\n",
              "    .dataframe thead th {\n",
              "        text-align: right;\n",
              "    }\n",
              "</style>\n",
              "<table border=\"1\" class=\"dataframe\">\n",
              "  <thead>\n",
              "    <tr style=\"text-align: right;\">\n",
              "      <th></th>\n",
              "      <th>country</th>\n",
              "      <th>points</th>\n",
              "      <th>price</th>\n",
              "      <th>province</th>\n",
              "      <th>region_1</th>\n",
              "      <th>taster_name</th>\n",
              "      <th>variety</th>\n",
              "      <th>winery</th>\n",
              "    </tr>\n",
              "  </thead>\n",
              "  <tbody>\n",
              "    <tr>\n",
              "      <th>16766</th>\n",
              "      <td>South Africa</td>\n",
              "      <td>88</td>\n",
              "      <td>NaN</td>\n",
              "      <td>Ceres Plateau</td>\n",
              "      <td>NaN</td>\n",
              "      <td>Lauren Buzzeo</td>\n",
              "      <td>Pinot Noir</td>\n",
              "      <td>De Grendel</td>\n",
              "    </tr>\n",
              "    <tr>\n",
              "      <th>34865</th>\n",
              "      <td>South Africa</td>\n",
              "      <td>91</td>\n",
              "      <td>NaN</td>\n",
              "      <td>Piekenierskloof</td>\n",
              "      <td>NaN</td>\n",
              "      <td>Lauren Buzzeo</td>\n",
              "      <td>Red Blend</td>\n",
              "      <td>Neil Ellis</td>\n",
              "    </tr>\n",
              "    <tr>\n",
              "      <th>110246</th>\n",
              "      <td>Egypt</td>\n",
              "      <td>84</td>\n",
              "      <td>NaN</td>\n",
              "      <td>Egypt</td>\n",
              "      <td>NaN</td>\n",
              "      <td>Susan Kostrzewa</td>\n",
              "      <td>Grenache</td>\n",
              "      <td>Sahara Vineyards</td>\n",
              "    </tr>\n",
              "  </tbody>\n",
              "</table>\n",
              "</div>"
            ],
            "text/plain": [
              "             country  points  ...     variety            winery\n",
              "16766   South Africa      88  ...  Pinot Noir        De Grendel\n",
              "34865   South Africa      91  ...   Red Blend        Neil Ellis\n",
              "110246         Egypt      84  ...    Grenache  Sahara Vineyards\n",
              "\n",
              "[3 rows x 8 columns]"
            ]
          },
          "metadata": {
            "tags": []
          },
          "execution_count": 14
        }
      ]
    },
    {
      "cell_type": "markdown",
      "metadata": {
        "id": "tL5iSuPQxvfR"
      },
      "source": [
        "Therefore, we will fill in those 3 values with the general median of all the data. "
      ]
    },
    {
      "cell_type": "code",
      "metadata": {
        "id": "fYWQW9C3xvfR",
        "colab": {
          "base_uri": "https://localhost:8080/"
        },
        "outputId": "d5eef0f2-b1c8-4278-c802-5cd577d24e44"
      },
      "source": [
        "df_relevant_features['price'].fillna(df_relevant_features['price'].median(), inplace=True)\n",
        "print(df_relevant_features.isnull().sum())\n"
      ],
      "execution_count": 15,
      "outputs": [
        {
          "output_type": "stream",
          "text": [
            "country            0\n",
            "points             0\n",
            "price              0\n",
            "province           0\n",
            "region_1       19500\n",
            "taster_name    24916\n",
            "variety            0\n",
            "winery             0\n",
            "dtype: int64\n"
          ],
          "name": "stdout"
        }
      ]
    },
    {
      "cell_type": "markdown",
      "metadata": {
        "id": "94IJkYBkxvfR"
      },
      "source": [
        "## **Missing Data Imputaion - \"taster_name\" variable**"
      ]
    },
    {
      "cell_type": "markdown",
      "metadata": {
        "id": "8BBaya1AxvfR"
      },
      "source": [
        "Now we will impute the missing data in the \"taster_name\" variable (character). The missing values will be replaced with the value \"unknown\", since we don't know whether the names are missing due to lack of documintation or deu to the fact that only the major tasters are mentioned in the list. "
      ]
    },
    {
      "cell_type": "code",
      "metadata": {
        "id": "Gt6DA2aXxvfS",
        "colab": {
          "base_uri": "https://localhost:8080/"
        },
        "outputId": "d38f2730-3eef-4437-a831-2d9eb4bc7d32"
      },
      "source": [
        "df_relevant_features['taster_name'].fillna('other', inplace=True)\n",
        "print(df_relevant_features.isnull().sum())"
      ],
      "execution_count": 16,
      "outputs": [
        {
          "output_type": "stream",
          "text": [
            "country            0\n",
            "points             0\n",
            "price              0\n",
            "province           0\n",
            "region_1       19500\n",
            "taster_name        0\n",
            "variety            0\n",
            "winery             0\n",
            "dtype: int64\n"
          ],
          "name": "stdout"
        }
      ]
    },
    {
      "cell_type": "markdown",
      "metadata": {
        "id": "v4eFrYQOxvfS"
      },
      "source": [
        "## **Missing Data Imputaion - \"region_1\" variable**\n"
      ]
    },
    {
      "cell_type": "markdown",
      "metadata": {
        "id": "IKEVvl1axvfS"
      },
      "source": [
        "We only left with the \"region_1\" variable missing data. \n",
        "First, we will check what are countries covered in the \"region_1\" variable - "
      ]
    },
    {
      "cell_type": "code",
      "metadata": {
        "id": "bDqFiUPjxvfS",
        "colab": {
          "base_uri": "https://localhost:8080/"
        },
        "outputId": "f24cde7d-d874-4955-b415-768fea4c7b79"
      },
      "source": [
        "df_relevant_features.loc[pd.isna(df_relevant_features['region_1']) == False]['country'].value_counts()"
      ],
      "execution_count": 17,
      "outputs": [
        {
          "output_type": "execute_result",
          "data": {
            "text/plain": [
              "US           50202\n",
              "France       20282\n",
              "Italy        17918\n",
              "Spain         6109\n",
              "Argentina     3495\n",
              "Australia     2196\n",
              "Canada         226\n",
              "Name: country, dtype: int64"
            ]
          },
          "metadata": {
            "tags": []
          },
          "execution_count": 17
        }
      ]
    },
    {
      "cell_type": "markdown",
      "metadata": {
        "id": "SvkGxauZxvfT"
      },
      "source": [
        "As we can see, the \"region_1\" feature includes data of only 7 countries out of all 43 countries which appear in the dataset. This means that it is impossible to fill in the missing data of all the other 36 countries. \n",
        "Therefore, the missing values will be replaced with \"null\". "
      ]
    },
    {
      "cell_type": "code",
      "metadata": {
        "id": "oUm6IByZxvfT",
        "colab": {
          "base_uri": "https://localhost:8080/"
        },
        "outputId": "66fdb107-eb80-4c94-f7ae-1b492c037907"
      },
      "source": [
        "df_relevant_features['region_1'].fillna('other', inplace=True)\n",
        "print(df_relevant_features.isnull().sum())"
      ],
      "execution_count": 18,
      "outputs": [
        {
          "output_type": "stream",
          "text": [
            "country        0\n",
            "points         0\n",
            "price          0\n",
            "province       0\n",
            "region_1       0\n",
            "taster_name    0\n",
            "variety        0\n",
            "winery         0\n",
            "dtype: int64\n"
          ],
          "name": "stdout"
        }
      ]
    },
    {
      "cell_type": "markdown",
      "metadata": {
        "id": "NVrpGgp9xvfT"
      },
      "source": [
        "As a summary, after handling the missing data and dropping irrelevant columns, these are the columns we will use for the models. "
      ]
    },
    {
      "cell_type": "code",
      "metadata": {
        "id": "K9ahhuvSxvfT",
        "colab": {
          "base_uri": "https://localhost:8080/",
          "height": 298
        },
        "outputId": "ae3d08a4-f0dd-473f-9368-d84ff76e84ae"
      },
      "source": [
        "nulls_final = df_relevant_features.isnull().sum()\n",
        "percentage_nulls_final = 100 * nulls_final / len(df_relevant_features)\n",
        "data_types_final = df_relevant_features.dtypes\n",
        "unique_values_final = df_relevant_features.nunique()\n",
        "missing_values_table_final = pd.concat([nulls_final, percentage_nulls_final,unique_values_final, data_types_final], axis=1)\n",
        "missing_values_table_final = missing_values_table_final.rename(columns = {0 : 'Missing Values', 1 : 'Percentage', 2: 'Unique Values', 3 : 'Data Types'})\n",
        "missing_values_table_final"
      ],
      "execution_count": 19,
      "outputs": [
        {
          "output_type": "execute_result",
          "data": {
            "text/html": [
              "<div>\n",
              "<style scoped>\n",
              "    .dataframe tbody tr th:only-of-type {\n",
              "        vertical-align: middle;\n",
              "    }\n",
              "\n",
              "    .dataframe tbody tr th {\n",
              "        vertical-align: top;\n",
              "    }\n",
              "\n",
              "    .dataframe thead th {\n",
              "        text-align: right;\n",
              "    }\n",
              "</style>\n",
              "<table border=\"1\" class=\"dataframe\">\n",
              "  <thead>\n",
              "    <tr style=\"text-align: right;\">\n",
              "      <th></th>\n",
              "      <th>Missing Values</th>\n",
              "      <th>Percentage</th>\n",
              "      <th>Unique Values</th>\n",
              "      <th>Data Types</th>\n",
              "    </tr>\n",
              "  </thead>\n",
              "  <tbody>\n",
              "    <tr>\n",
              "      <th>country</th>\n",
              "      <td>0</td>\n",
              "      <td>0.0</td>\n",
              "      <td>43</td>\n",
              "      <td>object</td>\n",
              "    </tr>\n",
              "    <tr>\n",
              "      <th>points</th>\n",
              "      <td>0</td>\n",
              "      <td>0.0</td>\n",
              "      <td>21</td>\n",
              "      <td>int64</td>\n",
              "    </tr>\n",
              "    <tr>\n",
              "      <th>price</th>\n",
              "      <td>0</td>\n",
              "      <td>0.0</td>\n",
              "      <td>405</td>\n",
              "      <td>float64</td>\n",
              "    </tr>\n",
              "    <tr>\n",
              "      <th>province</th>\n",
              "      <td>0</td>\n",
              "      <td>0.0</td>\n",
              "      <td>425</td>\n",
              "      <td>object</td>\n",
              "    </tr>\n",
              "    <tr>\n",
              "      <th>region_1</th>\n",
              "      <td>0</td>\n",
              "      <td>0.0</td>\n",
              "      <td>1230</td>\n",
              "      <td>object</td>\n",
              "    </tr>\n",
              "    <tr>\n",
              "      <th>taster_name</th>\n",
              "      <td>0</td>\n",
              "      <td>0.0</td>\n",
              "      <td>20</td>\n",
              "      <td>object</td>\n",
              "    </tr>\n",
              "    <tr>\n",
              "      <th>variety</th>\n",
              "      <td>0</td>\n",
              "      <td>0.0</td>\n",
              "      <td>701</td>\n",
              "      <td>object</td>\n",
              "    </tr>\n",
              "    <tr>\n",
              "      <th>winery</th>\n",
              "      <td>0</td>\n",
              "      <td>0.0</td>\n",
              "      <td>16745</td>\n",
              "      <td>object</td>\n",
              "    </tr>\n",
              "  </tbody>\n",
              "</table>\n",
              "</div>"
            ],
            "text/plain": [
              "             Missing Values  Percentage  Unique Values Data Types\n",
              "country                   0         0.0             43     object\n",
              "points                    0         0.0             21      int64\n",
              "price                     0         0.0            405    float64\n",
              "province                  0         0.0            425     object\n",
              "region_1                  0         0.0           1230     object\n",
              "taster_name               0         0.0             20     object\n",
              "variety                   0         0.0            701     object\n",
              "winery                    0         0.0          16745     object"
            ]
          },
          "metadata": {
            "tags": []
          },
          "execution_count": 19
        }
      ]
    },
    {
      "cell_type": "markdown",
      "metadata": {
        "id": "5j76vnO3xvfU"
      },
      "source": [
        "# **Data Distribution**"
      ]
    },
    {
      "cell_type": "markdown",
      "metadata": {
        "id": "RtHzPXT2xvfU"
      },
      "source": [
        "Before starting working on the models for wine quality prediction, we will check the data distribution of both features and labels. If needed, we will transform the data in order to get a better quality model.  "
      ]
    },
    {
      "cell_type": "markdown",
      "metadata": {
        "id": "JSAlshWVxvfU"
      },
      "source": [
        "### **\"country\" Data Distribution**"
      ]
    },
    {
      "cell_type": "code",
      "metadata": {
        "id": "9_U7CoTwxvfU",
        "colab": {
          "base_uri": "https://localhost:8080/"
        },
        "outputId": "f7e9f4f5-4efe-49a9-93f9-dc168363fafa"
      },
      "source": [
        "df_relevant_features['country'].value_counts()"
      ],
      "execution_count": 20,
      "outputs": [
        {
          "output_type": "execute_result",
          "data": {
            "text/plain": [
              "US                        50457\n",
              "France                    20353\n",
              "Italy                     17940\n",
              "Spain                      6116\n",
              "Portugal                   5256\n",
              "Chile                      4183\n",
              "Argentina                  3544\n",
              "Austria                    3034\n",
              "Australia                  2197\n",
              "Germany                    1992\n",
              "South Africa               1301\n",
              "New Zealand                1278\n",
              "Israel                      466\n",
              "Greece                      432\n",
              "Canada                      226\n",
              "Bulgaria                    132\n",
              "Hungary                     129\n",
              "Romania                     102\n",
              "Uruguay                      98\n",
              "Turkey                       81\n",
              "Slovenia                     77\n",
              "Georgia                      76\n",
              "Croatia                      70\n",
              "Mexico                       68\n",
              "England                      63\n",
              "Moldova                      56\n",
              "Brazil                       49\n",
              "Lebanon                      32\n",
              "Morocco                      24\n",
              "Peru                         16\n",
              "Ukraine                      14\n",
              "Czech Republic               11\n",
              "Macedonia                    11\n",
              "Cyprus                       10\n",
              "Serbia                        8\n",
              "India                         8\n",
              "Switzerland                   6\n",
              "Luxembourg                    5\n",
              "Armenia                       2\n",
              "Bosnia and Herzegovina        2\n",
              "Egypt                         1\n",
              "China                         1\n",
              "Slovakia                      1\n",
              "Name: country, dtype: int64"
            ]
          },
          "metadata": {
            "tags": []
          },
          "execution_count": 20
        }
      ]
    },
    {
      "cell_type": "markdown",
      "metadata": {
        "id": "av6WwIwGxvfV"
      },
      "source": [
        "As we see, the big volume of the data is covered by the USA, France, and Italy. "
      ]
    },
    {
      "cell_type": "markdown",
      "metadata": {
        "id": "isy-dI3nxvfV"
      },
      "source": [
        "### **\"points\" Data Distribution**"
      ]
    },
    {
      "cell_type": "code",
      "metadata": {
        "id": "tYAauKtIxvfV",
        "colab": {
          "base_uri": "https://localhost:8080/",
          "height": 328
        },
        "outputId": "f68ecd42-92f5-45e0-a8ee-a7fa93309d07"
      },
      "source": [
        "df_relevant_features['points'].hist()\n",
        "plt.suptitle('Histogram of points', fontsize='xx-large')\n",
        "plt.xlabel('Points', fontsize='large')\n",
        "plt.ylabel('Frequency', fontsize='large')\n",
        "print ()"
      ],
      "execution_count": 21,
      "outputs": [
        {
          "output_type": "stream",
          "text": [
            "\n"
          ],
          "name": "stdout"
        },
        {
          "output_type": "display_data",
          "data": {
            "image/png": "[encoded data removed]",
            "text/plain": [
              "<Figure size 432x288 with 1 Axes>"
            ]
          },
          "metadata": {
            "tags": [],
            "needs_background": "light"
          }
        }
      ]
    },
    {
      "cell_type": "code",
      "metadata": {
        "id": "pOeAQ3IimIK7",
        "colab": {
          "base_uri": "https://localhost:8080/"
        },
        "outputId": "0511f329-7995-4ba5-bd44-471274f9b380"
      },
      "source": [
        "print (\"The mean of the points is : {}\".format(df_relevant_features['points'].mean()))\n",
        "print (\"The standard deviation of the points is : {}\".format(df_relevant_features['points'].std()))"
      ],
      "execution_count": 22,
      "outputs": [
        {
          "output_type": "stream",
          "text": [
            "The mean of the points is : 88.44214862250683\n",
            "The standard deviation of the points is : 3.093287251240293\n"
          ],
          "name": "stdout"
        }
      ]
    },
    {
      "cell_type": "markdown",
      "metadata": {
        "id": "xVdqKLQbxvfV"
      },
      "source": [
        "The scores are normally distributed with mean = 88.5 and standard deviation = 3. "
      ]
    },
    {
      "cell_type": "markdown",
      "metadata": {
        "id": "mfQDvf6vxvfV"
      },
      "source": [
        "### **\"price\" Data Distribution**"
      ]
    },
    {
      "cell_type": "code",
      "metadata": {
        "id": "9j_oMni3xvfV",
        "colab": {
          "base_uri": "https://localhost:8080/",
          "height": 328
        },
        "outputId": "07035f24-7346-419d-cd07-d4c43d3b4653"
      },
      "source": [
        "# An histogram of the \"price\" variable. \n",
        "\n",
        "df_relevant_features['price'].hist()\n",
        "plt.suptitle('Histogram of price', fontsize='xx-large')\n",
        "plt.xlabel('Price is USD', fontsize='large')\n",
        "plt.ylabel('Frequency', fontsize='large')\n",
        "print ()"
      ],
      "execution_count": 23,
      "outputs": [
        {
          "output_type": "stream",
          "text": [
            "\n"
          ],
          "name": "stdout"
        },
        {
          "output_type": "display_data",
          "data": {
            "image/png": "[encoded data removed]",
            "text/plain": [
              "<Figure size 432x288 with 1 Axes>"
            ]
          },
          "metadata": {
            "tags": [],
            "needs_background": "light"
          }
        }
      ]
    },
    {
      "cell_type": "markdown",
      "metadata": {
        "id": "5JAPcbMvxvfW"
      },
      "source": [
        "It seems that the outliers in the data prevent are from seeing the distribution of the major amount of data, with much lower prices than the range presented in this histogram. \n",
        "\n",
        "To get a better view, we will first create a boxplot, which will show us the possible outliers in a better way. "
      ]
    },
    {
      "cell_type": "code",
      "metadata": {
        "id": "FEswAtLlxvfW",
        "colab": {
          "base_uri": "https://localhost:8080/",
          "height": 298
        },
        "outputId": "764eaa90-5d1e-4913-db37-544346683a71"
      },
      "source": [
        "import seaborn as sns\n",
        "sns.boxplot(y = df_relevant_features['price'])\n",
        "plt.suptitle('Boxplot of price', fontsize='xx-large')\n",
        "print ()"
      ],
      "execution_count": 24,
      "outputs": [
        {
          "output_type": "stream",
          "text": [
            "\n"
          ],
          "name": "stdout"
        },
        {
          "output_type": "display_data",
          "data": {
            "image/png": "[encoded data removed]",
            "text/plain": [
              "<Figure size 432x288 with 1 Axes>"
            ]
          },
          "metadata": {
            "tags": [],
            "needs_background": "light"
          }
        }
      ]
    },
    {
      "cell_type": "markdown",
      "metadata": {
        "id": "OQWzEICXxvfW"
      },
      "source": [
        "In the boxplot, we see that most of the prices are lower than ~100. Therefore, we will create a histogram that will provide us a better view of the price distribution. In order to do that, we will summarize all values higher than 100 to one bin."
      ]
    },
    {
      "cell_type": "code",
      "metadata": {
        "id": "v2Ddy6aJxvfW",
        "colab": {
          "base_uri": "https://localhost:8080/",
          "height": 390
        },
        "outputId": "21cf08c2-b447-45c7-bd77-06aa089731dc"
      },
      "source": [
        "def plot_histogram():\n",
        "    bins = np.arange(0,110,5)\n",
        "    fig, ax = plt.subplots(figsize=(9, 5))\n",
        "    _, bins, patches = plt.hist([np.clip(df_relevant_features['price'], bins[0], bins[-2])], density=False, bins=bins)\n",
        "    xlabels = bins[0:].astype(str)\n",
        "    xlabels[-2] += '+'\n",
        "    N_labels = len(xlabels)-1\n",
        "    plt.xlim([0, 105])\n",
        "    plt.xticks(5 * np.arange(N_labels))\n",
        "    ax.set_xticklabels(xlabels)\n",
        "    plt.suptitle('Histogram of price', fontsize='xx-large')\n",
        "    plt.xlabel('Price in USD', fontsize='large')\n",
        "    plt.ylabel('Frequency', fontsize='large')\n",
        "    print ()\n",
        "plot_histogram()"
      ],
      "execution_count": 25,
      "outputs": [
        {
          "output_type": "stream",
          "text": [
            "\n"
          ],
          "name": "stdout"
        },
        {
          "output_type": "display_data",
          "data": {
            "image/png": "[encoded data removed]",
            "text/plain": [
              "<Figure size 648x360 with 1 Axes>"
            ]
          },
          "metadata": {
            "tags": [],
            "needs_background": "light"
          }
        }
      ]
    },
    {
      "cell_type": "markdown",
      "metadata": {
        "id": "xD3_a8oWxvfW"
      },
      "source": [
        "As we can see, most of the wines cost between 10-30 USD.\n",
        "\n",
        "Since our data has a right-skewed distribution, we would make a **log transformation**. We expect that the transformation would provide asymptotically normally distributed data.\n",
        "\n",
        "Since the lowest price is 4 and most of the values are below 100, we will present a histogram with a log of 4 to 100 (~1.25 to ~4.75 in log values). All the values higher than 4.75 are summarized and presented in the last bin. "
      ]
    },
    {
      "cell_type": "code",
      "metadata": {
        "id": "AtEv-emnxvfW",
        "colab": {
          "base_uri": "https://localhost:8080/",
          "height": 390
        },
        "outputId": "c1112f1e-6ba1-41ff-bfd2-5a2b22f2cebb"
      },
      "source": [
        "def plot_histogram_1():\n",
        "    bins = np.arange(1.25,5.25,0.25)\n",
        "    fig, ax = plt.subplots(figsize=(9, 5))\n",
        "    _, bins, patches = plt.hist([np.clip(df_relevant_features['price'].apply(np.log), bins[0], bins[-2])], density=False, bins=bins)\n",
        "    xlabels = bins[0:].astype(str)\n",
        "    xlabels[-2] += '+'\n",
        "    N_labels = len(xlabels)-1\n",
        "    plt.xlim([1.25,5])\n",
        "    plt.xticks(0.25 * np.arange(N_labels) + 1.25)\n",
        "    ax.set_xticklabels(xlabels)\n",
        "    plt.suptitle('Histogram of log(price)', fontsize='xx-large')\n",
        "    plt.xlabel('log(price)', fontsize='large')\n",
        "    plt.ylabel('Frequency', fontsize='large')\n",
        "    print () \n",
        "plot_histogram_1()"
      ],
      "execution_count": 26,
      "outputs": [
        {
          "output_type": "stream",
          "text": [
            "\n"
          ],
          "name": "stdout"
        },
        {
          "output_type": "display_data",
          "data": {
            "image/png": "[encoded data removed]",
            "text/plain": [
              "<Figure size 648x360 with 1 Axes>"
            ]
          },
          "metadata": {
            "tags": [],
            "needs_background": "light"
          }
        }
      ]
    },
    {
      "cell_type": "markdown",
      "metadata": {
        "id": "IM_P01ZqxvfX"
      },
      "source": [
        "The transformed \"price\" variable has indeed a distribution that is much closer to be normal than the original distribution. Hence, we will use log(price) as a feature. "
      ]
    },
    {
      "cell_type": "code",
      "metadata": {
        "id": "gooC1eqSxvfX"
      },
      "source": [
        "df_relevant_features['price_log'] = np.log(df_relevant_features['price'])"
      ],
      "execution_count": 27,
      "outputs": []
    },
    {
      "cell_type": "markdown",
      "metadata": {
        "id": "_LzrF9HZxvfX"
      },
      "source": [
        "### **\"taster_name\" Data Distribution**"
      ]
    },
    {
      "cell_type": "code",
      "metadata": {
        "id": "ohOtQ_4IxvfX",
        "colab": {
          "base_uri": "https://localhost:8080/",
          "height": 328
        },
        "outputId": "85e4fee6-8ef6-4bc4-ff57-114d1400bac0"
      },
      "source": [
        "df_relevant_features['taster_name'].value_counts().plot(kind='barh')\n",
        "plt.suptitle('Bar chart of tasters', fontsize='xx-large')\n",
        "plt.xlabel('Frequency', fontsize='large')\n",
        "plt.ylabel('Tasters', fontsize='large')\n",
        "print ()"
      ],
      "execution_count": 28,
      "outputs": [
        {
          "output_type": "stream",
          "text": [
            "\n"
          ],
          "name": "stdout"
        },
        {
          "output_type": "display_data",
          "data": {
            "image/png": "[encoded data removed]",
            "text/plain": [
              "<Figure size 432x288 with 1 Axes>"
            ]
          },
          "metadata": {
            "tags": [],
            "needs_background": "light"
          }
        }
      ]
    },
    {
      "cell_type": "markdown",
      "metadata": {
        "id": "cMe8FBC9xvfX"
      },
      "source": [
        "We will skip other features since they have a big number of categories each and the summary will not be as informative as the summaries presented above. "
      ]
    },
    {
      "cell_type": "code",
      "metadata": {
        "id": "m_lUpc9Kxvfa",
        "colab": {
          "base_uri": "https://localhost:8080/",
          "height": 330
        },
        "outputId": "63bc3cc3-c420-41ba-8c1f-4c449a09f025"
      },
      "source": [
        "\n",
        "data_types_final = df_relevant_features.dtypes\n",
        "unique_values_final = df_relevant_features.nunique()\n",
        "missing_values_table_final = pd.concat([unique_values_final, data_types_final], axis=1)\n",
        "missing_values_table_final = missing_values_table_final.rename(columns = {0 : 'Unique Values', 1 : 'Data Types'})\n",
        "missing_values_table_final"
      ],
      "execution_count": 29,
      "outputs": [
        {
          "output_type": "execute_result",
          "data": {
            "text/html": [
              "<div>\n",
              "<style scoped>\n",
              "    .dataframe tbody tr th:only-of-type {\n",
              "        vertical-align: middle;\n",
              "    }\n",
              "\n",
              "    .dataframe tbody tr th {\n",
              "        vertical-align: top;\n",
              "    }\n",
              "\n",
              "    .dataframe thead th {\n",
              "        text-align: right;\n",
              "    }\n",
              "</style>\n",
              "<table border=\"1\" class=\"dataframe\">\n",
              "  <thead>\n",
              "    <tr style=\"text-align: right;\">\n",
              "      <th></th>\n",
              "      <th>Unique Values</th>\n",
              "      <th>Data Types</th>\n",
              "    </tr>\n",
              "  </thead>\n",
              "  <tbody>\n",
              "    <tr>\n",
              "      <th>country</th>\n",
              "      <td>43</td>\n",
              "      <td>object</td>\n",
              "    </tr>\n",
              "    <tr>\n",
              "      <th>points</th>\n",
              "      <td>21</td>\n",
              "      <td>int64</td>\n",
              "    </tr>\n",
              "    <tr>\n",
              "      <th>price</th>\n",
              "      <td>405</td>\n",
              "      <td>float64</td>\n",
              "    </tr>\n",
              "    <tr>\n",
              "      <th>province</th>\n",
              "      <td>425</td>\n",
              "      <td>object</td>\n",
              "    </tr>\n",
              "    <tr>\n",
              "      <th>region_1</th>\n",
              "      <td>1230</td>\n",
              "      <td>object</td>\n",
              "    </tr>\n",
              "    <tr>\n",
              "      <th>taster_name</th>\n",
              "      <td>20</td>\n",
              "      <td>object</td>\n",
              "    </tr>\n",
              "    <tr>\n",
              "      <th>variety</th>\n",
              "      <td>701</td>\n",
              "      <td>object</td>\n",
              "    </tr>\n",
              "    <tr>\n",
              "      <th>winery</th>\n",
              "      <td>16745</td>\n",
              "      <td>object</td>\n",
              "    </tr>\n",
              "    <tr>\n",
              "      <th>price_log</th>\n",
              "      <td>405</td>\n",
              "      <td>float64</td>\n",
              "    </tr>\n",
              "  </tbody>\n",
              "</table>\n",
              "</div>"
            ],
            "text/plain": [
              "             Unique Values Data Types\n",
              "country                 43     object\n",
              "points                  21      int64\n",
              "price                  405    float64\n",
              "province               425     object\n",
              "region_1              1230     object\n",
              "taster_name             20     object\n",
              "variety                701     object\n",
              "winery               16745     object\n",
              "price_log              405    float64"
            ]
          },
          "metadata": {
            "tags": []
          },
          "execution_count": 29
        }
      ]
    },
    {
      "cell_type": "markdown",
      "metadata": {
        "id": "g2vod1BZSZ5k"
      },
      "source": [
        "In our future models, we will use an One-Hot Encoding for categorical variables. Since this encode will increase the amount of features to be a very high, will slow the running time and use a big amount of memory. \n",
        "In order to reduce all that, categories with a low amount of values (<100 in our case) will be replaced by the value \"other\".  "
      ]
    },
    {
      "cell_type": "code",
      "metadata": {
        "id": "aNxI1EcBgmvt"
      },
      "source": [
        "cols = ['province','region_1','variety', 'winery']\n",
        "for col in cols:\n",
        "    val = df_relevant_features[col].value_counts()\n",
        "    y = val[val < 100].index\n",
        "    df_relevant_features[col] = df_relevant_features[col].replace({x:'other' for x in y})"
      ],
      "execution_count": 30,
      "outputs": []
    },
    {
      "cell_type": "code",
      "metadata": {
        "id": "hKvw5fuHhYWm",
        "colab": {
          "base_uri": "https://localhost:8080/",
          "height": 330
        },
        "outputId": "cc715704-c38e-4765-b9ed-e40708c120f7"
      },
      "source": [
        "data_types_final = df_relevant_features.dtypes\n",
        "unique_values_final = df_relevant_features.nunique()\n",
        "missing_values_table_final = pd.concat([unique_values_final, data_types_final], axis=1)\n",
        "missing_values_table_final = missing_values_table_final.rename(columns = {0 : 'Unique Values', 1 : 'Data Types'})\n",
        "missing_values_table_final"
      ],
      "execution_count": 31,
      "outputs": [
        {
          "output_type": "execute_result",
          "data": {
            "text/html": [
              "<div>\n",
              "<style scoped>\n",
              "    .dataframe tbody tr th:only-of-type {\n",
              "        vertical-align: middle;\n",
              "    }\n",
              "\n",
              "    .dataframe tbody tr th {\n",
              "        vertical-align: top;\n",
              "    }\n",
              "\n",
              "    .dataframe thead th {\n",
              "        text-align: right;\n",
              "    }\n",
              "</style>\n",
              "<table border=\"1\" class=\"dataframe\">\n",
              "  <thead>\n",
              "    <tr style=\"text-align: right;\">\n",
              "      <th></th>\n",
              "      <th>Unique Values</th>\n",
              "      <th>Data Types</th>\n",
              "    </tr>\n",
              "  </thead>\n",
              "  <tbody>\n",
              "    <tr>\n",
              "      <th>country</th>\n",
              "      <td>43</td>\n",
              "      <td>object</td>\n",
              "    </tr>\n",
              "    <tr>\n",
              "      <th>points</th>\n",
              "      <td>21</td>\n",
              "      <td>int64</td>\n",
              "    </tr>\n",
              "    <tr>\n",
              "      <th>price</th>\n",
              "      <td>405</td>\n",
              "      <td>float64</td>\n",
              "    </tr>\n",
              "    <tr>\n",
              "      <th>province</th>\n",
              "      <td>82</td>\n",
              "      <td>object</td>\n",
              "    </tr>\n",
              "    <tr>\n",
              "      <th>region_1</th>\n",
              "      <td>197</td>\n",
              "      <td>object</td>\n",
              "    </tr>\n",
              "    <tr>\n",
              "      <th>taster_name</th>\n",
              "      <td>20</td>\n",
              "      <td>object</td>\n",
              "    </tr>\n",
              "    <tr>\n",
              "      <th>variety</th>\n",
              "      <td>87</td>\n",
              "      <td>object</td>\n",
              "    </tr>\n",
              "    <tr>\n",
              "      <th>winery</th>\n",
              "      <td>22</td>\n",
              "      <td>object</td>\n",
              "    </tr>\n",
              "    <tr>\n",
              "      <th>price_log</th>\n",
              "      <td>405</td>\n",
              "      <td>float64</td>\n",
              "    </tr>\n",
              "  </tbody>\n",
              "</table>\n",
              "</div>"
            ],
            "text/plain": [
              "             Unique Values Data Types\n",
              "country                 43     object\n",
              "points                  21      int64\n",
              "price                  405    float64\n",
              "province                82     object\n",
              "region_1               197     object\n",
              "taster_name             20     object\n",
              "variety                 87     object\n",
              "winery                  22     object\n",
              "price_log              405    float64"
            ]
          },
          "metadata": {
            "tags": []
          },
          "execution_count": 31
        }
      ]
    },
    {
      "cell_type": "markdown",
      "metadata": {
        "id": "wOW5g2TmX0XE"
      },
      "source": [
        "After replacing the values to \"other\", we will encode the categorical features to One-Hot features. "
      ]
    },
    {
      "cell_type": "code",
      "metadata": {
        "id": "w2MUMJgnxvfa"
      },
      "source": [
        "df_relevant_features_new = pd.get_dummies(df_relevant_features, columns = ['country', 'province', 'region_1','taster_name','variety','winery'])"
      ],
      "execution_count": 32,
      "outputs": []
    },
    {
      "cell_type": "markdown",
      "metadata": {
        "id": "3g2TSPhmYws5"
      },
      "source": [
        "Since we transrformed the 'price' variable to be log, we will drop the 'price' column. "
      ]
    },
    {
      "cell_type": "code",
      "metadata": {
        "id": "l80KmJoDxvfb",
        "colab": {
          "base_uri": "https://localhost:8080/",
          "height": 288
        },
        "outputId": "1f1ce313-70ed-4f8c-d03b-cf9eeaac96dd"
      },
      "source": [
        "df_relevant_features_new.drop('price', axis=1, inplace=True)\n",
        "df_relevant_features_new.head()\n"
      ],
      "execution_count": 33,
      "outputs": [
        {
          "output_type": "execute_result",
          "data": {
            "text/html": [
              "<div>\n",
              "<style scoped>\n",
              "    .dataframe tbody tr th:only-of-type {\n",
              "        vertical-align: middle;\n",
              "    }\n",
              "\n",
              "    .dataframe tbody tr th {\n",
              "        vertical-align: top;\n",
              "    }\n",
              "\n",
              "    .dataframe thead th {\n",
              "        text-align: right;\n",
              "    }\n",
              "</style>\n",
              "<table border=\"1\" class=\"dataframe\">\n",
              "  <thead>\n",
              "    <tr style=\"text-align: right;\">\n",
              "      <th></th>\n",
              "      <th>points</th>\n",
              "      <th>price_log</th>\n",
              "      <th>country_Argentina</th>\n",
              "      <th>country_Armenia</th>\n",
              "      <th>country_Australia</th>\n",
              "      <th>country_Austria</th>\n",
              "      <th>country_Bosnia and Herzegovina</th>\n",
              "      <th>country_Brazil</th>\n",
              "      <th>country_Bulgaria</th>\n",
              "      <th>country_Canada</th>\n",
              "      <th>country_Chile</th>\n",
              "      <th>country_China</th>\n",
              "      <th>country_Croatia</th>\n",
              "      <th>country_Cyprus</th>\n",
              "      <th>country_Czech Republic</th>\n",
              "      <th>country_Egypt</th>\n",
              "      <th>country_England</th>\n",
              "      <th>country_France</th>\n",
              "      <th>country_Georgia</th>\n",
              "      <th>country_Germany</th>\n",
              "      <th>country_Greece</th>\n",
              "      <th>country_Hungary</th>\n",
              "      <th>country_India</th>\n",
              "      <th>country_Israel</th>\n",
              "      <th>country_Italy</th>\n",
              "      <th>country_Lebanon</th>\n",
              "      <th>country_Luxembourg</th>\n",
              "      <th>country_Macedonia</th>\n",
              "      <th>country_Mexico</th>\n",
              "      <th>country_Moldova</th>\n",
              "      <th>country_Morocco</th>\n",
              "      <th>country_New Zealand</th>\n",
              "      <th>country_Peru</th>\n",
              "      <th>country_Portugal</th>\n",
              "      <th>country_Romania</th>\n",
              "      <th>country_Serbia</th>\n",
              "      <th>country_Slovakia</th>\n",
              "      <th>country_Slovenia</th>\n",
              "      <th>country_South Africa</th>\n",
              "      <th>country_Spain</th>\n",
              "      <th>...</th>\n",
              "      <th>variety_Sémillon</th>\n",
              "      <th>variety_Tannat</th>\n",
              "      <th>variety_Tempranillo</th>\n",
              "      <th>variety_Tempranillo Blend</th>\n",
              "      <th>variety_Tinta de Toro</th>\n",
              "      <th>variety_Torrontés</th>\n",
              "      <th>variety_Touriga Nacional</th>\n",
              "      <th>variety_Turbiana</th>\n",
              "      <th>variety_Verdejo</th>\n",
              "      <th>variety_Verdicchio</th>\n",
              "      <th>variety_Vermentino</th>\n",
              "      <th>variety_Vernaccia</th>\n",
              "      <th>variety_Viognier</th>\n",
              "      <th>variety_Viura</th>\n",
              "      <th>variety_White Blend</th>\n",
              "      <th>variety_Zinfandel</th>\n",
              "      <th>variety_Zweigelt</th>\n",
              "      <th>variety_other</th>\n",
              "      <th>winery_Albert Bichot</th>\n",
              "      <th>winery_Chateau Ste. Michelle</th>\n",
              "      <th>winery_Columbia Crest</th>\n",
              "      <th>winery_Concha y Toro</th>\n",
              "      <th>winery_DFJ Vinhos</th>\n",
              "      <th>winery_Gary Farrell</th>\n",
              "      <th>winery_Georges Duboeuf</th>\n",
              "      <th>winery_Jean-Luc and Paul Aegerter</th>\n",
              "      <th>winery_Kendall-Jackson</th>\n",
              "      <th>winery_Louis Jadot</th>\n",
              "      <th>winery_Louis Latour</th>\n",
              "      <th>winery_Lynmar</th>\n",
              "      <th>winery_Montes</th>\n",
              "      <th>winery_Robert Mondavi</th>\n",
              "      <th>winery_Santa Ema</th>\n",
              "      <th>winery_Siduri</th>\n",
              "      <th>winery_Testarossa</th>\n",
              "      <th>winery_Trapiche</th>\n",
              "      <th>winery_Undurraga</th>\n",
              "      <th>winery_Williams Selyem</th>\n",
              "      <th>winery_Wines &amp; Winemakers</th>\n",
              "      <th>winery_other</th>\n",
              "    </tr>\n",
              "  </thead>\n",
              "  <tbody>\n",
              "    <tr>\n",
              "      <th>0</th>\n",
              "      <td>87</td>\n",
              "      <td>3.091042</td>\n",
              "      <td>0</td>\n",
              "      <td>0</td>\n",
              "      <td>0</td>\n",
              "      <td>0</td>\n",
              "      <td>0</td>\n",
              "      <td>0</td>\n",
              "      <td>0</td>\n",
              "      <td>0</td>\n",
              "      <td>0</td>\n",
              "      <td>0</td>\n",
              "      <td>0</td>\n",
              "      <td>0</td>\n",
              "      <td>0</td>\n",
              "      <td>0</td>\n",
              "      <td>0</td>\n",
              "      <td>0</td>\n",
              "      <td>0</td>\n",
              "      <td>0</td>\n",
              "      <td>0</td>\n",
              "      <td>0</td>\n",
              "      <td>0</td>\n",
              "      <td>0</td>\n",
              "      <td>1</td>\n",
              "      <td>0</td>\n",
              "      <td>0</td>\n",
              "      <td>0</td>\n",
              "      <td>0</td>\n",
              "      <td>0</td>\n",
              "      <td>0</td>\n",
              "      <td>0</td>\n",
              "      <td>0</td>\n",
              "      <td>0</td>\n",
              "      <td>0</td>\n",
              "      <td>0</td>\n",
              "      <td>0</td>\n",
              "      <td>0</td>\n",
              "      <td>0</td>\n",
              "      <td>0</td>\n",
              "      <td>...</td>\n",
              "      <td>0</td>\n",
              "      <td>0</td>\n",
              "      <td>0</td>\n",
              "      <td>0</td>\n",
              "      <td>0</td>\n",
              "      <td>0</td>\n",
              "      <td>0</td>\n",
              "      <td>0</td>\n",
              "      <td>0</td>\n",
              "      <td>0</td>\n",
              "      <td>0</td>\n",
              "      <td>0</td>\n",
              "      <td>0</td>\n",
              "      <td>0</td>\n",
              "      <td>1</td>\n",
              "      <td>0</td>\n",
              "      <td>0</td>\n",
              "      <td>0</td>\n",
              "      <td>0</td>\n",
              "      <td>0</td>\n",
              "      <td>0</td>\n",
              "      <td>0</td>\n",
              "      <td>0</td>\n",
              "      <td>0</td>\n",
              "      <td>0</td>\n",
              "      <td>0</td>\n",
              "      <td>0</td>\n",
              "      <td>0</td>\n",
              "      <td>0</td>\n",
              "      <td>0</td>\n",
              "      <td>0</td>\n",
              "      <td>0</td>\n",
              "      <td>0</td>\n",
              "      <td>0</td>\n",
              "      <td>0</td>\n",
              "      <td>0</td>\n",
              "      <td>0</td>\n",
              "      <td>0</td>\n",
              "      <td>0</td>\n",
              "      <td>1</td>\n",
              "    </tr>\n",
              "    <tr>\n",
              "      <th>1</th>\n",
              "      <td>87</td>\n",
              "      <td>2.708050</td>\n",
              "      <td>0</td>\n",
              "      <td>0</td>\n",
              "      <td>0</td>\n",
              "      <td>0</td>\n",
              "      <td>0</td>\n",
              "      <td>0</td>\n",
              "      <td>0</td>\n",
              "      <td>0</td>\n",
              "      <td>0</td>\n",
              "      <td>0</td>\n",
              "      <td>0</td>\n",
              "      <td>0</td>\n",
              "      <td>0</td>\n",
              "      <td>0</td>\n",
              "      <td>0</td>\n",
              "      <td>0</td>\n",
              "      <td>0</td>\n",
              "      <td>0</td>\n",
              "      <td>0</td>\n",
              "      <td>0</td>\n",
              "      <td>0</td>\n",
              "      <td>0</td>\n",
              "      <td>0</td>\n",
              "      <td>0</td>\n",
              "      <td>0</td>\n",
              "      <td>0</td>\n",
              "      <td>0</td>\n",
              "      <td>0</td>\n",
              "      <td>0</td>\n",
              "      <td>0</td>\n",
              "      <td>0</td>\n",
              "      <td>1</td>\n",
              "      <td>0</td>\n",
              "      <td>0</td>\n",
              "      <td>0</td>\n",
              "      <td>0</td>\n",
              "      <td>0</td>\n",
              "      <td>0</td>\n",
              "      <td>...</td>\n",
              "      <td>0</td>\n",
              "      <td>0</td>\n",
              "      <td>0</td>\n",
              "      <td>0</td>\n",
              "      <td>0</td>\n",
              "      <td>0</td>\n",
              "      <td>0</td>\n",
              "      <td>0</td>\n",
              "      <td>0</td>\n",
              "      <td>0</td>\n",
              "      <td>0</td>\n",
              "      <td>0</td>\n",
              "      <td>0</td>\n",
              "      <td>0</td>\n",
              "      <td>0</td>\n",
              "      <td>0</td>\n",
              "      <td>0</td>\n",
              "      <td>0</td>\n",
              "      <td>0</td>\n",
              "      <td>0</td>\n",
              "      <td>0</td>\n",
              "      <td>0</td>\n",
              "      <td>0</td>\n",
              "      <td>0</td>\n",
              "      <td>0</td>\n",
              "      <td>0</td>\n",
              "      <td>0</td>\n",
              "      <td>0</td>\n",
              "      <td>0</td>\n",
              "      <td>0</td>\n",
              "      <td>0</td>\n",
              "      <td>0</td>\n",
              "      <td>0</td>\n",
              "      <td>0</td>\n",
              "      <td>0</td>\n",
              "      <td>0</td>\n",
              "      <td>0</td>\n",
              "      <td>0</td>\n",
              "      <td>0</td>\n",
              "      <td>1</td>\n",
              "    </tr>\n",
              "    <tr>\n",
              "      <th>2</th>\n",
              "      <td>87</td>\n",
              "      <td>2.639057</td>\n",
              "      <td>0</td>\n",
              "      <td>0</td>\n",
              "      <td>0</td>\n",
              "      <td>0</td>\n",
              "      <td>0</td>\n",
              "      <td>0</td>\n",
              "      <td>0</td>\n",
              "      <td>0</td>\n",
              "      <td>0</td>\n",
              "      <td>0</td>\n",
              "      <td>0</td>\n",
              "      <td>0</td>\n",
              "      <td>0</td>\n",
              "      <td>0</td>\n",
              "      <td>0</td>\n",
              "      <td>0</td>\n",
              "      <td>0</td>\n",
              "      <td>0</td>\n",
              "      <td>0</td>\n",
              "      <td>0</td>\n",
              "      <td>0</td>\n",
              "      <td>0</td>\n",
              "      <td>0</td>\n",
              "      <td>0</td>\n",
              "      <td>0</td>\n",
              "      <td>0</td>\n",
              "      <td>0</td>\n",
              "      <td>0</td>\n",
              "      <td>0</td>\n",
              "      <td>0</td>\n",
              "      <td>0</td>\n",
              "      <td>0</td>\n",
              "      <td>0</td>\n",
              "      <td>0</td>\n",
              "      <td>0</td>\n",
              "      <td>0</td>\n",
              "      <td>0</td>\n",
              "      <td>0</td>\n",
              "      <td>...</td>\n",
              "      <td>0</td>\n",
              "      <td>0</td>\n",
              "      <td>0</td>\n",
              "      <td>0</td>\n",
              "      <td>0</td>\n",
              "      <td>0</td>\n",
              "      <td>0</td>\n",
              "      <td>0</td>\n",
              "      <td>0</td>\n",
              "      <td>0</td>\n",
              "      <td>0</td>\n",
              "      <td>0</td>\n",
              "      <td>0</td>\n",
              "      <td>0</td>\n",
              "      <td>0</td>\n",
              "      <td>0</td>\n",
              "      <td>0</td>\n",
              "      <td>0</td>\n",
              "      <td>0</td>\n",
              "      <td>0</td>\n",
              "      <td>0</td>\n",
              "      <td>0</td>\n",
              "      <td>0</td>\n",
              "      <td>0</td>\n",
              "      <td>0</td>\n",
              "      <td>0</td>\n",
              "      <td>0</td>\n",
              "      <td>0</td>\n",
              "      <td>0</td>\n",
              "      <td>0</td>\n",
              "      <td>0</td>\n",
              "      <td>0</td>\n",
              "      <td>0</td>\n",
              "      <td>0</td>\n",
              "      <td>0</td>\n",
              "      <td>0</td>\n",
              "      <td>0</td>\n",
              "      <td>0</td>\n",
              "      <td>0</td>\n",
              "      <td>1</td>\n",
              "    </tr>\n",
              "    <tr>\n",
              "      <th>3</th>\n",
              "      <td>87</td>\n",
              "      <td>2.564949</td>\n",
              "      <td>0</td>\n",
              "      <td>0</td>\n",
              "      <td>0</td>\n",
              "      <td>0</td>\n",
              "      <td>0</td>\n",
              "      <td>0</td>\n",
              "      <td>0</td>\n",
              "      <td>0</td>\n",
              "      <td>0</td>\n",
              "      <td>0</td>\n",
              "      <td>0</td>\n",
              "      <td>0</td>\n",
              "      <td>0</td>\n",
              "      <td>0</td>\n",
              "      <td>0</td>\n",
              "      <td>0</td>\n",
              "      <td>0</td>\n",
              "      <td>0</td>\n",
              "      <td>0</td>\n",
              "      <td>0</td>\n",
              "      <td>0</td>\n",
              "      <td>0</td>\n",
              "      <td>0</td>\n",
              "      <td>0</td>\n",
              "      <td>0</td>\n",
              "      <td>0</td>\n",
              "      <td>0</td>\n",
              "      <td>0</td>\n",
              "      <td>0</td>\n",
              "      <td>0</td>\n",
              "      <td>0</td>\n",
              "      <td>0</td>\n",
              "      <td>0</td>\n",
              "      <td>0</td>\n",
              "      <td>0</td>\n",
              "      <td>0</td>\n",
              "      <td>0</td>\n",
              "      <td>0</td>\n",
              "      <td>...</td>\n",
              "      <td>0</td>\n",
              "      <td>0</td>\n",
              "      <td>0</td>\n",
              "      <td>0</td>\n",
              "      <td>0</td>\n",
              "      <td>0</td>\n",
              "      <td>0</td>\n",
              "      <td>0</td>\n",
              "      <td>0</td>\n",
              "      <td>0</td>\n",
              "      <td>0</td>\n",
              "      <td>0</td>\n",
              "      <td>0</td>\n",
              "      <td>0</td>\n",
              "      <td>0</td>\n",
              "      <td>0</td>\n",
              "      <td>0</td>\n",
              "      <td>0</td>\n",
              "      <td>0</td>\n",
              "      <td>0</td>\n",
              "      <td>0</td>\n",
              "      <td>0</td>\n",
              "      <td>0</td>\n",
              "      <td>0</td>\n",
              "      <td>0</td>\n",
              "      <td>0</td>\n",
              "      <td>0</td>\n",
              "      <td>0</td>\n",
              "      <td>0</td>\n",
              "      <td>0</td>\n",
              "      <td>0</td>\n",
              "      <td>0</td>\n",
              "      <td>0</td>\n",
              "      <td>0</td>\n",
              "      <td>0</td>\n",
              "      <td>0</td>\n",
              "      <td>0</td>\n",
              "      <td>0</td>\n",
              "      <td>0</td>\n",
              "      <td>1</td>\n",
              "    </tr>\n",
              "    <tr>\n",
              "      <th>4</th>\n",
              "      <td>87</td>\n",
              "      <td>4.174387</td>\n",
              "      <td>0</td>\n",
              "      <td>0</td>\n",
              "      <td>0</td>\n",
              "      <td>0</td>\n",
              "      <td>0</td>\n",
              "      <td>0</td>\n",
              "      <td>0</td>\n",
              "      <td>0</td>\n",
              "      <td>0</td>\n",
              "      <td>0</td>\n",
              "      <td>0</td>\n",
              "      <td>0</td>\n",
              "      <td>0</td>\n",
              "      <td>0</td>\n",
              "      <td>0</td>\n",
              "      <td>0</td>\n",
              "      <td>0</td>\n",
              "      <td>0</td>\n",
              "      <td>0</td>\n",
              "      <td>0</td>\n",
              "      <td>0</td>\n",
              "      <td>0</td>\n",
              "      <td>0</td>\n",
              "      <td>0</td>\n",
              "      <td>0</td>\n",
              "      <td>0</td>\n",
              "      <td>0</td>\n",
              "      <td>0</td>\n",
              "      <td>0</td>\n",
              "      <td>0</td>\n",
              "      <td>0</td>\n",
              "      <td>0</td>\n",
              "      <td>0</td>\n",
              "      <td>0</td>\n",
              "      <td>0</td>\n",
              "      <td>0</td>\n",
              "      <td>0</td>\n",
              "      <td>0</td>\n",
              "      <td>...</td>\n",
              "      <td>0</td>\n",
              "      <td>0</td>\n",
              "      <td>0</td>\n",
              "      <td>0</td>\n",
              "      <td>0</td>\n",
              "      <td>0</td>\n",
              "      <td>0</td>\n",
              "      <td>0</td>\n",
              "      <td>0</td>\n",
              "      <td>0</td>\n",
              "      <td>0</td>\n",
              "      <td>0</td>\n",
              "      <td>0</td>\n",
              "      <td>0</td>\n",
              "      <td>0</td>\n",
              "      <td>0</td>\n",
              "      <td>0</td>\n",
              "      <td>0</td>\n",
              "      <td>0</td>\n",
              "      <td>0</td>\n",
              "      <td>0</td>\n",
              "      <td>0</td>\n",
              "      <td>0</td>\n",
              "      <td>0</td>\n",
              "      <td>0</td>\n",
              "      <td>0</td>\n",
              "      <td>0</td>\n",
              "      <td>0</td>\n",
              "      <td>0</td>\n",
              "      <td>0</td>\n",
              "      <td>0</td>\n",
              "      <td>0</td>\n",
              "      <td>0</td>\n",
              "      <td>0</td>\n",
              "      <td>0</td>\n",
              "      <td>0</td>\n",
              "      <td>0</td>\n",
              "      <td>0</td>\n",
              "      <td>0</td>\n",
              "      <td>1</td>\n",
              "    </tr>\n",
              "  </tbody>\n",
              "</table>\n",
              "<p>5 rows × 453 columns</p>\n",
              "</div>"
            ],
            "text/plain": [
              "   points  price_log  ...  winery_Wines & Winemakers  winery_other\n",
              "0      87   3.091042  ...                          0             1\n",
              "1      87   2.708050  ...                          0             1\n",
              "2      87   2.639057  ...                          0             1\n",
              "3      87   2.564949  ...                          0             1\n",
              "4      87   4.174387  ...                          0             1\n",
              "\n",
              "[5 rows x 453 columns]"
            ]
          },
          "metadata": {
            "tags": []
          },
          "execution_count": 33
        }
      ]
    },
    {
      "cell_type": "markdown",
      "metadata": {
        "id": "b8XDiJ75ZGHf"
      },
      "source": [
        "# **Regression Models**"
      ]
    },
    {
      "cell_type": "markdown",
      "metadata": {
        "id": "ERJILQbV5vnn"
      },
      "source": [
        "### **Linear Regression Model**\n",
        "\n",
        "As a starting point, we will create a basic Linear Regression Model, which will include only two numeric variables that are included in the dataset - price, and points. We will check the proportion of the variance for the points that is explained by the price. "
      ]
    },
    {
      "cell_type": "code",
      "metadata": {
        "id": "GOD3oYihFuZo",
        "colab": {
          "base_uri": "https://localhost:8080/",
          "height": 703
        },
        "outputId": "500c18bf-fa4c-4938-b14f-da26c2d6abd6"
      },
      "source": [
        "x1 = df_relevant_features_new['price_log'] # independent variable\n",
        "y = df_relevant_features_new['points'] # dependent variable\n",
        "plt.scatter(x1, y)\n",
        "plt.xlabel('log (price)', fontsize = 10)\n",
        "plt.ylabel('points', fontsize = 10)\n",
        "plt.show()\n",
        "\n",
        "x = sm.add_constant(x1)\n",
        "\n",
        "lr_model = sm.OLS(y, x).fit() # Ordinary Least Squares \n",
        "lr_model.summary()"
      ],
      "execution_count": 34,
      "outputs": [
        {
          "output_type": "display_data",
          "data": {
            "image/png": "[encoded data removed]",
            "text/plain": [
              "<Figure size 432x288 with 1 Axes>"
            ]
          },
          "metadata": {
            "tags": [],
            "needs_background": "light"
          }
        },
        {
          "output_type": "execute_result",
          "data": {
            "text/html": [
              "<table class=\"simpletable\">\n",
              "<caption>OLS Regression Results</caption>\n",
              "<tr>\n",
              "  <th>Dep. Variable:</th>         <td>points</td>      <th>  R-squared:         </th>  <td>   0.352</td>  \n",
              "</tr>\n",
              "<tr>\n",
              "  <th>Model:</th>                   <td>OLS</td>       <th>  Adj. R-squared:    </th>  <td>   0.352</td>  \n",
              "</tr>\n",
              "<tr>\n",
              "  <th>Method:</th>             <td>Least Squares</td>  <th>  F-statistic:       </th>  <td>6.520e+04</td> \n",
              "</tr>\n",
              "<tr>\n",
              "  <th>Date:</th>             <td>Mon, 09 Aug 2021</td> <th>  Prob (F-statistic):</th>   <td>  0.00</td>   \n",
              "</tr>\n",
              "<tr>\n",
              "  <th>Time:</th>                 <td>08:26:27</td>     <th>  Log-Likelihood:    </th> <td>-2.7956e+05</td>\n",
              "</tr>\n",
              "<tr>\n",
              "  <th>No. Observations:</th>      <td>119928</td>      <th>  AIC:               </th>  <td>5.591e+05</td> \n",
              "</tr>\n",
              "<tr>\n",
              "  <th>Df Residuals:</th>          <td>119926</td>      <th>  BIC:               </th>  <td>5.592e+05</td> \n",
              "</tr>\n",
              "<tr>\n",
              "  <th>Df Model:</th>              <td>     1</td>      <th>                     </th>      <td> </td>     \n",
              "</tr>\n",
              "<tr>\n",
              "  <th>Covariance Type:</th>      <td>nonrobust</td>    <th>                     </th>      <td> </td>     \n",
              "</tr>\n",
              "</table>\n",
              "<table class=\"simpletable\">\n",
              "<tr>\n",
              "      <td></td>         <th>coef</th>     <th>std err</th>      <th>t</th>      <th>P>|t|</th>  <th>[0.025</th>    <th>0.975]</th>  \n",
              "</tr>\n",
              "<tr>\n",
              "  <th>const</th>     <td>   79.0082</td> <td>    0.038</td> <td> 2099.040</td> <td> 0.000</td> <td>   78.934</td> <td>   79.082</td>\n",
              "</tr>\n",
              "<tr>\n",
              "  <th>price_log</th> <td>    2.8480</td> <td>    0.011</td> <td>  255.335</td> <td> 0.000</td> <td>    2.826</td> <td>    2.870</td>\n",
              "</tr>\n",
              "</table>\n",
              "<table class=\"simpletable\">\n",
              "<tr>\n",
              "  <th>Omnibus:</th>       <td>1347.142</td> <th>  Durbin-Watson:     </th> <td>   0.700</td> \n",
              "</tr>\n",
              "<tr>\n",
              "  <th>Prob(Omnibus):</th>  <td> 0.000</td>  <th>  Jarque-Bera (JB):  </th> <td>1407.971</td> \n",
              "</tr>\n",
              "<tr>\n",
              "  <th>Skew:</th>           <td>-0.250</td>  <th>  Prob(JB):          </th> <td>1.83e-306</td>\n",
              "</tr>\n",
              "<tr>\n",
              "  <th>Kurtosis:</th>       <td> 3.176</td>  <th>  Cond. No.          </th> <td>    19.2</td> \n",
              "</tr>\n",
              "</table><br/><br/>Warnings:<br/>[1] Standard Errors assume that the covariance matrix of the errors is correctly specified."
            ],
            "text/plain": [
              "<class 'statsmodels.iolib.summary.Summary'>\n",
              "\"\"\"\n",
              "                            OLS Regression Results                            \n",
              "==============================================================================\n",
              "Dep. Variable:                 points   R-squared:                       0.352\n",
              "Model:                            OLS   Adj. R-squared:                  0.352\n",
              "Method:                 Least Squares   F-statistic:                 6.520e+04\n",
              "Date:                Mon, 09 Aug 2021   Prob (F-statistic):               0.00\n",
              "Time:                        08:26:27   Log-Likelihood:            -2.7956e+05\n",
              "No. Observations:              119928   AIC:                         5.591e+05\n",
              "Df Residuals:                  119926   BIC:                         5.592e+05\n",
              "Df Model:                           1                                         \n",
              "Covariance Type:            nonrobust                                         \n",
              "==============================================================================\n",
              "                 coef    std err          t      P>|t|      [0.025      0.975]\n",
              "------------------------------------------------------------------------------\n",
              "const         79.0082      0.038   2099.040      0.000      78.934      79.082\n",
              "price_log      2.8480      0.011    255.335      0.000       2.826       2.870\n",
              "==============================================================================\n",
              "Omnibus:                     1347.142   Durbin-Watson:                   0.700\n",
              "Prob(Omnibus):                  0.000   Jarque-Bera (JB):             1407.971\n",
              "Skew:                          -0.250   Prob(JB):                    1.83e-306\n",
              "Kurtosis:                       3.176   Cond. No.                         19.2\n",
              "==============================================================================\n",
              "\n",
              "Warnings:\n",
              "[1] Standard Errors assume that the covariance matrix of the errors is correctly specified.\n",
              "\"\"\""
            ]
          },
          "metadata": {
            "tags": []
          },
          "execution_count": 34
        }
      ]
    },
    {
      "cell_type": "markdown",
      "metadata": {
        "id": "LJuNK_dxLpSB"
      },
      "source": [
        "As we see in the graph and in the summary table, there is some linear relationship between the log of the prices and the scores. \n",
        "The R^2 value is 0.352, means the proportion of the variance for the points that is explained by the price is equal to 0.352. \n",
        "We also see that both the log(price) and the intercept are significant, means the log(price) is a significant variable when predicting the points. "
      ]
    },
    {
      "cell_type": "code",
      "metadata": {
        "id": "m9iDjCs2JsWg",
        "colab": {
          "base_uri": "https://localhost:8080/",
          "height": 279
        },
        "outputId": "1679c71d-b632-4508-822c-c53bce954ee5"
      },
      "source": [
        "plt.scatter(x1, y)\n",
        "yhat = 2.8480*x1 + 79.008\n",
        "fig = plt.plot(x1,yhat, lw=4, c='orange', label = 'regression line')\n",
        "plt.xlabel('log (price)', fontsize = 10)\n",
        "plt.ylabel('points', fontsize = 10)\n",
        "plt.show()"
      ],
      "execution_count": 35,
      "outputs": [
        {
          "output_type": "display_data",
          "data": {
            "image/png": "[encoded data removed]",
            "text/plain": [
              "<Figure size 432x288 with 1 Axes>"
            ]
          },
          "metadata": {
            "tags": [],
            "needs_background": "light"
          }
        }
      ]
    },
    {
      "cell_type": "markdown",
      "metadata": {
        "id": "3Y1BCnNzM3V7"
      },
      "source": [
        "After creating a basic Linear Regression Model, we will move further to machine learning regression models, and will check how adding categorical features (presented as one-hot features) and using more advanced models will improve the predictions. \n",
        "\n",
        "Later, we will create categorical models, and will try to predict the quality of the wine, when the label will be used as a categorical label with two categories - \"Poor quality\" and \"Good quality\". "
      ]
    },
    {
      "cell_type": "markdown",
      "metadata": {
        "id": "It63E_bmZYUe"
      },
      "source": [
        "## **Keras Regression Model**\n",
        "\n",
        "We wil start with Neural Network Keras Regression Model. "
      ]
    },
    {
      "cell_type": "code",
      "metadata": {
        "id": "3jPrw8LHxvfb"
      },
      "source": [
        "x_columns_reg = df_relevant_features_new.columns.drop('points')\n",
        "x_reg = df_relevant_features_new[x_columns_reg].values\n",
        "y_reg = df_relevant_features_new['points'].values\n",
        "\n",
        "# Create train/test\n",
        "x_train_reg, x_test_reg, y_train_reg, y_test_reg = train_test_split(    \n",
        "    x_reg, y_reg, test_size=0.2, random_state=42)\n"
      ],
      "execution_count": 36,
      "outputs": []
    },
    {
      "cell_type": "code",
      "metadata": {
        "id": "W7hBGuFyxvfc",
        "colab": {
          "base_uri": "https://localhost:8080/"
        },
        "outputId": "4d404137-c96e-4602-98d3-444b06a753ae"
      },
      "source": [
        "# Build the neural network\n",
        "model = Sequential()\n",
        "model.add(Dense(25, input_dim=x_reg.shape[1], activation='relu')) # Hidden 1\n",
        "model.add(Dense(10, activation='relu')) # Hidden 2\n",
        "model.add(Dense(1)) # Output\n",
        "model.compile(loss='mean_squared_error', optimizer='adam')\n",
        "monitor = EarlyStopping(monitor='val_loss', min_delta=1e-3, \n",
        "                        patience=5, verbose=1, mode='auto', \n",
        "                        restore_best_weights=True)\n",
        "model.fit(x_train_reg,y_train_reg,validation_data=(x_test_reg,y_test_reg),\n",
        "          callbacks=[monitor],verbose=2,epochs=1000)"
      ],
      "execution_count": 37,
      "outputs": [
        {
          "output_type": "stream",
          "text": [
            "Epoch 1/1000\n",
            "2999/2999 - 5s - loss: 470.0559 - val_loss: 7.7416\n",
            "Epoch 2/1000\n",
            "2999/2999 - 4s - loss: 5.7272 - val_loss: 5.5424\n",
            "Epoch 3/1000\n",
            "2999/2999 - 4s - loss: 5.3697 - val_loss: 5.6659\n",
            "Epoch 4/1000\n",
            "2999/2999 - 4s - loss: 5.3052 - val_loss: 5.6530\n",
            "Epoch 5/1000\n",
            "2999/2999 - 4s - loss: 5.2636 - val_loss: 5.3106\n",
            "Epoch 6/1000\n",
            "2999/2999 - 4s - loss: 5.2173 - val_loss: 5.2764\n",
            "Epoch 7/1000\n",
            "2999/2999 - 4s - loss: 5.1872 - val_loss: 5.2260\n",
            "Epoch 8/1000\n",
            "2999/2999 - 4s - loss: 5.1798 - val_loss: 5.2555\n",
            "Epoch 9/1000\n",
            "2999/2999 - 4s - loss: 5.1319 - val_loss: 5.4809\n",
            "Epoch 10/1000\n",
            "2999/2999 - 4s - loss: 5.1392 - val_loss: 5.5721\n",
            "Epoch 11/1000\n",
            "2999/2999 - 4s - loss: 5.1181 - val_loss: 5.2192\n",
            "Epoch 12/1000\n",
            "2999/2999 - 4s - loss: 5.1065 - val_loss: 5.2002\n",
            "Epoch 13/1000\n",
            "2999/2999 - 4s - loss: 5.0988 - val_loss: 5.2339\n",
            "Epoch 14/1000\n",
            "2999/2999 - 4s - loss: 5.0942 - val_loss: 5.2821\n",
            "Epoch 15/1000\n",
            "2999/2999 - 4s - loss: 5.0817 - val_loss: 5.2586\n",
            "Epoch 16/1000\n",
            "2999/2999 - 4s - loss: 5.0730 - val_loss: 5.2388\n",
            "Epoch 17/1000\n",
            "2999/2999 - 4s - loss: 5.0919 - val_loss: 5.2025\n",
            "Restoring model weights from the end of the best epoch.\n",
            "Epoch 00017: early stopping\n"
          ],
          "name": "stdout"
        },
        {
          "output_type": "execute_result",
          "data": {
            "text/plain": [
              "<tensorflow.python.keras.callbacks.History at 0x7efee4cbd610>"
            ]
          },
          "metadata": {
            "tags": []
          },
          "execution_count": 37
        }
      ]
    },
    {
      "cell_type": "code",
      "metadata": {
        "id": "NzKtHj3Cxvfc",
        "colab": {
          "base_uri": "https://localhost:8080/"
        },
        "outputId": "498ad852-b9b9-4bcb-9efe-4219b4ede10c"
      },
      "source": [
        "# Predict\n",
        "y_pred_keras = model.predict(x_test_reg)\n",
        "\n",
        "# Measure MSE and RMSE error.  \n",
        "\n",
        "score1 = metrics.mean_squared_error(y_pred_keras,y_test_reg)\n",
        "print(\"Final score (MSE): {}\".format(score1))\n",
        "score2 = np.sqrt(metrics.mean_squared_error(y_pred_keras,y_test_reg))\n",
        "print(\"Final score (RMSE): {}\".format(score2))"
      ],
      "execution_count": 38,
      "outputs": [
        {
          "output_type": "stream",
          "text": [
            "Final score (MSE): 5.200224055952421\n",
            "Final score (RMSE): 2.280399977186551\n"
          ],
          "name": "stdout"
        }
      ]
    },
    {
      "cell_type": "code",
      "metadata": {
        "id": "wKlkvhBdpw-B",
        "colab": {
          "base_uri": "https://localhost:8080/"
        },
        "outputId": "6f9550a7-7dea-4c6a-fbc4-29e253d92b69"
      },
      "source": [
        "# Calculating R2 value\n",
        "\n",
        "y_pred_train_keras = model.predict(x_train_reg)\n",
        "\n",
        "score_train_keras = r2_score(y_train_reg, y_pred_train_keras)\n",
        "score_test_keras = r2_score(y_test_reg, y_pred_keras)\n",
        "print(\"R^2 for train data: {}\".format(score_train_keras))\n",
        "print(\"R^2 for test data: {}\".format(score_test_keras))\n"
      ],
      "execution_count": 39,
      "outputs": [
        {
          "output_type": "stream",
          "text": [
            "R^2 for train data: 0.48129174540924724\n",
            "R^2 for test data: 0.4510138560954764\n"
          ],
          "name": "stdout"
        }
      ]
    },
    {
      "cell_type": "code",
      "metadata": {
        "id": "di_WihTHU5WW",
        "colab": {
          "base_uri": "https://localhost:8080/",
          "height": 265
        },
        "outputId": "38aedfd2-b860-492d-a754-e70ef70ebb8c"
      },
      "source": [
        "# Regression chart.\n",
        "def chart_regression(pred, y, sort=True):\n",
        "    t = pd.DataFrame({'pred': pred, 'y': y.flatten()})\n",
        "    if sort:\n",
        "        t.sort_values(by=['y'], inplace=True)\n",
        "    plt.plot(t['pred'].tolist(), label='prediction')\n",
        "    plt.plot(t['y'].tolist(), label='expected')\n",
        "    plt.ylabel('output')\n",
        "    plt.legend()\n",
        "    plt.show()\n",
        "chart_regression(y_pred_keras.flatten(), y_test_reg)"
      ],
      "execution_count": 40,
      "outputs": [
        {
          "output_type": "display_data",
          "data": {
            "image/png": "[encoded data removed]",
            "text/plain": [
              "<Figure size 432x288 with 1 Axes>"
            ]
          },
          "metadata": {
            "tags": [],
            "needs_background": "light"
          }
        }
      ]
    },
    {
      "cell_type": "markdown",
      "metadata": {
        "id": "90Ssl7eusgtU"
      },
      "source": [
        "As we see, the RMSE value is 2.28 and the R^2 value for the test data is 0.45. \n",
        "\n",
        "We will build aditional Regression model and compare the scores.  "
      ]
    },
    {
      "cell_type": "markdown",
      "metadata": {
        "id": "GdY7z5hCtGMw"
      },
      "source": [
        "## **XGBoost Regression Model**"
      ]
    },
    {
      "cell_type": "code",
      "metadata": {
        "id": "DZQqbqqGEtiB"
      },
      "source": [
        "regressor = xgb.XGBRegressor(\n",
        "    n_estimators=100,\n",
        "    reg_lambda=2,\n",
        "    gamma=0,\n",
        "    max_depth=3\n",
        ")"
      ],
      "execution_count": 41,
      "outputs": []
    },
    {
      "cell_type": "code",
      "metadata": {
        "id": "xGgJeLuIKBSd",
        "colab": {
          "base_uri": "https://localhost:8080/"
        },
        "outputId": "208b2e69-2c23-420d-c50e-e318b3d2c3e1"
      },
      "source": [
        "regressor.fit(x_train_reg, y_train_reg)\n"
      ],
      "execution_count": 42,
      "outputs": [
        {
          "output_type": "stream",
          "text": [
            "[08:28:20] WARNING: /workspace/src/objective/regression_obj.cu:152: reg:linear is now deprecated in favor of reg:squarederror.\n"
          ],
          "name": "stdout"
        },
        {
          "output_type": "execute_result",
          "data": {
            "text/plain": [
              "XGBRegressor(base_score=0.5, booster='gbtree', colsample_bylevel=1,\n",
              "             colsample_bynode=1, colsample_bytree=1, gamma=0,\n",
              "             importance_type='gain', learning_rate=0.1, max_delta_step=0,\n",
              "             max_depth=3, min_child_weight=1, missing=None, n_estimators=100,\n",
              "             n_jobs=1, nthread=None, objective='reg:linear', random_state=0,\n",
              "             reg_alpha=0, reg_lambda=2, scale_pos_weight=1, seed=None,\n",
              "             silent=None, subsample=1, verbosity=1)"
            ]
          },
          "metadata": {
            "tags": []
          },
          "execution_count": 42
        }
      ]
    },
    {
      "cell_type": "code",
      "metadata": {
        "id": "obPAg3cqKFju",
        "colab": {
          "base_uri": "https://localhost:8080/"
        },
        "outputId": "d49182c1-fc2b-471f-84ce-7719714f8a6f"
      },
      "source": [
        "y_pred_XG = regressor.predict(x_test_reg)\n",
        "\n",
        "# Measure MSE and RMSE errors  \n",
        "\n",
        "score1_XG = metrics.mean_squared_error(y_pred_XG,y_test_reg)\n",
        "print(\"Final score (MSE): {}\".format(score1_XG))\n",
        "score2_XG = np.sqrt(metrics.mean_squared_error(y_pred_XG,y_test_reg))\n",
        "print(\"Final score (RMSE): {}\".format(score2_XG))"
      ],
      "execution_count": 43,
      "outputs": [
        {
          "output_type": "stream",
          "text": [
            "Final score (MSE): 5.432604381609079\n",
            "Final score (RMSE): 2.3307947961176416\n"
          ],
          "name": "stdout"
        }
      ]
    },
    {
      "cell_type": "code",
      "metadata": {
        "id": "sBF8RMrsRoB5",
        "colab": {
          "base_uri": "https://localhost:8080/"
        },
        "outputId": "3f7ca545-5d62-4fa4-ac37-c55232a6c38b"
      },
      "source": [
        "# Calculating R2 value\n",
        "\n",
        "y_pred_train_XG = regressor.predict(x_train_reg)\n",
        "score_train_XG = r2_score(y_train_reg,y_pred_train_XG)\n",
        "score_test_XG = r2_score(y_test_reg,y_pred_XG)\n",
        "print(\"R^2 for train data: {}\".format(score_train_XG))\n",
        "print(\"R^2 for test data: {}\".format(score_test_XG))"
      ],
      "execution_count": 44,
      "outputs": [
        {
          "output_type": "stream",
          "text": [
            "R^2 for train data: 0.4458723615873902\n",
            "R^2 for test data: 0.4264815325784733\n"
          ],
          "name": "stdout"
        }
      ]
    },
    {
      "cell_type": "code",
      "metadata": {
        "id": "OaXTSjEUbh9c",
        "colab": {
          "base_uri": "https://localhost:8080/",
          "height": 265
        },
        "outputId": "6fec731b-8af1-484c-d1ae-744609c2eeb9"
      },
      "source": [
        "# Regression chart.\n",
        "def chart_regression(pred, y, sort=True):\n",
        "    t = pd.DataFrame({'pred': pred, 'y': y.flatten()})\n",
        "    if sort:\n",
        "        t.sort_values(by=['y'], inplace=True)\n",
        "    plt.plot(t['pred'].tolist(), label='prediction')\n",
        "    plt.plot(t['y'].tolist(), label='expected')\n",
        "    plt.ylabel('output')\n",
        "    plt.legend()\n",
        "    plt.show()\n",
        "chart_regression(y_pred_XG.flatten(), y_test_reg)"
      ],
      "execution_count": 45,
      "outputs": [
        {
          "output_type": "display_data",
          "data": {
            "image/png": "[encoded data removed]",
            "text/plain": [
              "<Figure size 432x288 with 1 Axes>"
            ]
          },
          "metadata": {
            "tags": [],
            "needs_background": "light"
          }
        }
      ]
    },
    {
      "cell_type": "markdown",
      "metadata": {
        "id": "QuWDrIjsxAQm"
      },
      "source": [
        "XDBoost Regression model provides a bit lower scores than the Keras Regression model. Both scores are not really good and do not provide a very good prediction for the quality of the wine. \n",
        "In addition, in the Regression chart we see that the predcition in XGBoost model have less variance than the predictions in Keras Model and almost don`t show any trend."
      ]
    },
    {
      "cell_type": "markdown",
      "metadata": {
        "id": "j3F46uJRxnH_"
      },
      "source": [
        "# **Binary Classification Models**"
      ]
    },
    {
      "cell_type": "markdown",
      "metadata": {
        "id": "sDr5RlBpx31R"
      },
      "source": [
        "After predicting the scores of the wines using models with  a numeric label, we will encode our label to be a two-categories label (poor/good quality wine). Following that, the models shown below will be binary classification models.  "
      ]
    },
    {
      "cell_type": "code",
      "metadata": {
        "id": "PvRcLD7ijd7Q",
        "colab": {
          "base_uri": "https://localhost:8080/"
        },
        "outputId": "471e9368-cb56-4deb-d64d-27bbc1f7dd88"
      },
      "source": [
        "df_relevant_features_new['points_cat'] = np.where(df_relevant_features_new[\"points\"]>=89, 1, 2) \n",
        "df_relevant_features_new['points_cat'].value_counts()\n"
      ],
      "execution_count": 46,
      "outputs": [
        {
          "output_type": "execute_result",
          "data": {
            "text/plain": [
              "2    63227\n",
              "1    56701\n",
              "Name: points_cat, dtype: int64"
            ]
          },
          "metadata": {
            "tags": []
          },
          "execution_count": 46
        }
      ]
    },
    {
      "cell_type": "code",
      "metadata": {
        "id": "CPPelUMcEz6Q"
      },
      "source": [
        "df_relevant_features_new.drop('points', axis=1, inplace=True)\n"
      ],
      "execution_count": 47,
      "outputs": []
    },
    {
      "cell_type": "code",
      "metadata": {
        "id": "ASYOYXwfGaNk"
      },
      "source": [
        "x_columns_class = df_relevant_features_new.columns.drop('points_cat')\n",
        "x_class = df_relevant_features_new[x_columns_class].values\n",
        "y_class = df_relevant_features_new['points_cat'].values\n",
        "\n",
        "# Create train/test\n",
        "x_train_class, x_test_class, y_train_class, y_test_class = train_test_split(    \n",
        "    x_class, y_class, test_size=0.2, random_state=42)"
      ],
      "execution_count": 48,
      "outputs": []
    },
    {
      "cell_type": "markdown",
      "metadata": {
        "id": "4mYYkz87zxjd"
      },
      "source": [
        "## **Naive Bayes Model**"
      ]
    },
    {
      "cell_type": "code",
      "metadata": {
        "id": "2sEFUCDiL2sl"
      },
      "source": [
        "#Create a Gaussian Classifier\n",
        "gnb = GaussianNB()\n",
        "\n",
        "#Train the model using the training sets\n",
        "gnb.fit(x_train_class, y_train_class)\n",
        "\n",
        "#Predict the response for test dataset\n",
        "y_pred_NB = gnb.predict(x_test_class)"
      ],
      "execution_count": 49,
      "outputs": []
    },
    {
      "cell_type": "code",
      "metadata": {
        "id": "lHJwr-jUjDB0",
        "colab": {
          "base_uri": "https://localhost:8080/",
          "height": 436
        },
        "outputId": "77480306-e930-48cb-b5cd-9d3f5238ab06"
      },
      "source": [
        "# Confusion matrix \n",
        "\n",
        "def pretty_print_conf_matrix(y_true, y_pred, \n",
        "                             classes,\n",
        "                             normalize=False,\n",
        "                             title='Confusion matrix',\n",
        "                             cmap=plt.cm.Pastel2):\n",
        "    \n",
        "    cm = confusion_matrix(y_true, y_pred)\n",
        "\n",
        "    # Configure Confusion Matrix Plot Aesthetics (no text yet) \n",
        "    plt.imshow(cm, interpolation='nearest', cmap=cmap)\n",
        "    plt.title(title, fontsize=14)\n",
        "    tick_marks = np.arange(len(classes))\n",
        "    plt.xticks(tick_marks, classes, rotation=80)\n",
        "    plt.yticks(tick_marks, classes)\n",
        "    plt.ylabel('True label', fontsize=12)\n",
        "    plt.xlabel('Predicted label', fontsize=12)\n",
        "    # Calculate normalized values (so all cells sum to 1) if desired\n",
        "    if normalize:\n",
        "        cm = np.round(cm.astype('float') / cm.sum(),2) #(axis=1)[:, np.newaxis]\n",
        "\n",
        "    # Place Numbers as Text on Confusion Matrix Plot\n",
        "    thresh = cm.max() / 2.\n",
        "    for i, j in itertools.product(range(cm.shape[0]), range(cm.shape[1])):\n",
        "        plt.text(j, i, cm[i, j],\n",
        "                 horizontalalignment=\"center\",\n",
        "                 color=\"white\" if cm[i, j] > thresh else \"black\",\n",
        "                 fontsize=12)\n",
        "\n",
        "\n",
        "    # Add Precision, Recall, F-1 Score as Captions Below Plot\n",
        "    rpt = classification_report(y_true, y_pred)\n",
        "    rpt = rpt.replace('avg / total', '      avg')\n",
        "    rpt = rpt.replace('support', 'N Obs')\n",
        "\n",
        "    plt.annotate(rpt, \n",
        "                 xy = (0,0), \n",
        "                 xytext = (-20, -200), \n",
        "                 xycoords='axes fraction', textcoords='offset points',\n",
        "                 fontsize=12, ha='left')    \n",
        "\n",
        "    # Plot\n",
        "    plt.tight_layout()\n",
        "\n",
        "\n",
        "# Plot Confusion Matrix\n",
        "plt.style.use('classic')\n",
        "plt.figure(figsize=(2,2))\n",
        "pretty_print_conf_matrix(y_test_class, y_pred_NB, \n",
        "                         classes= ['Poor=1', 'Good=2'],\n",
        "                         normalize=True, \n",
        "                         title='Confusion Matrix')"
      ],
      "execution_count": 50,
      "outputs": [
        {
          "output_type": "stream",
          "text": [
            "/usr/local/lib/python3.7/dist-packages/ipykernel_launcher.py:44: UserWarning: Tight layout not applied. The left and right margins cannot be made large enough to accommodate all axes decorations. \n"
          ],
          "name": "stderr"
        },
        {
          "output_type": "display_data",
          "data": {
            "image/png": "[encoded data removed]",
            "text/plain": [
              "<Figure size 160x160 with 1 Axes>"
            ]
          },
          "metadata": {
            "tags": []
          }
        }
      ]
    },
    {
      "cell_type": "markdown",
      "metadata": {
        "id": "KsEYYGNy0aCa"
      },
      "source": [
        "The confusion matrix showed us that the accuracy value is 0.64, which means the models classified correctly only 64% of the data. \n",
        "In order to try and improve the model, we will run the same model, but this time we will change to price feature to be a categorical feature."
      ]
    },
    {
      "cell_type": "code",
      "metadata": {
        "id": "BUv2O5r8Nacu",
        "colab": {
          "base_uri": "https://localhost:8080/"
        },
        "outputId": "eba542f6-dd92-4a4f-8f09-93e4074d0be8"
      },
      "source": [
        "bins = [0, 2.75, 3, 3.5, 4, np.inf]\n",
        "names = ['1', '2', '3', '4', '5']\n",
        "\n",
        "df_relevant_features_new['price_log_cat'] = pd.cut(df_relevant_features_new['price_log'], bins, labels=names)\n",
        "df_relevant_features_new['price_log_cat'].value_counts()"
      ],
      "execution_count": 51,
      "outputs": [
        {
          "output_type": "execute_result",
          "data": {
            "text/plain": [
              "3    29652\n",
              "4    26375\n",
              "1    23795\n",
              "2    22475\n",
              "5    17631\n",
              "Name: price_log_cat, dtype: int64"
            ]
          },
          "metadata": {
            "tags": []
          },
          "execution_count": 51
        }
      ]
    },
    {
      "cell_type": "code",
      "metadata": {
        "id": "ly5_mG_uohBx"
      },
      "source": [
        "x_columns_class_all_cat = df_relevant_features_new.columns.drop('points_cat').drop('price_log')\n",
        "x_class_all_cat = df_relevant_features_new[x_columns_class_all_cat].values\n",
        "y_class_all_cat = df_relevant_features_new['points_cat'].values\n",
        "\n",
        "# Create train/test\n",
        "\n",
        "x_train_class_all_cat, x_test_class_all_cat, y_train_class_all_cat, y_test_class_all_cat = train_test_split(    \n",
        "    x_class_all_cat, y_class_all_cat, test_size=0.2, random_state=42)\n"
      ],
      "execution_count": 52,
      "outputs": []
    },
    {
      "cell_type": "code",
      "metadata": {
        "id": "w7Vl7BllrpG_"
      },
      "source": [
        "#Create a Gaussian Classifier\n",
        "gnb_cat = GaussianNB()\n",
        "\n",
        "#Train the model using the training sets\n",
        "gnb_cat.fit(x_train_class_all_cat, y_train_class_all_cat)\n",
        "\n",
        "#Predict the response for test dataset\n",
        "y_pred_NB_all_cat = gnb_cat.predict(x_test_class_all_cat)"
      ],
      "execution_count": 53,
      "outputs": []
    },
    {
      "cell_type": "code",
      "metadata": {
        "id": "2vuNDH36oObG",
        "colab": {
          "base_uri": "https://localhost:8080/",
          "height": 436
        },
        "outputId": "eace06a9-aa16-4404-db8a-df4740c1d4cd"
      },
      "source": [
        "# Confusion matrix \n",
        "\n",
        "plt.style.use('classic')\n",
        "plt.figure(figsize=(2,2))\n",
        "pretty_print_conf_matrix(y_test_class, y_pred_NB_all_cat, \n",
        "                         classes= ['Poor=1', 'Good=2'],\n",
        "                         normalize=True, \n",
        "                         title='Confusion Matrix')"
      ],
      "execution_count": 54,
      "outputs": [
        {
          "output_type": "stream",
          "text": [
            "/usr/local/lib/python3.7/dist-packages/ipykernel_launcher.py:44: UserWarning: Tight layout not applied. The left and right margins cannot be made large enough to accommodate all axes decorations. \n"
          ],
          "name": "stderr"
        },
        {
          "output_type": "display_data",
          "data": {
            "image/png": "[encoded data removed]",
            "text/plain": [
              "<Figure size 160x160 with 1 Axes>"
            ]
          },
          "metadata": {
            "tags": []
          }
        }
      ]
    },
    {
      "cell_type": "markdown",
      "metadata": {
        "id": "zZ9lEzaA1cpN"
      },
      "source": [
        "As we see, once we changed the price feature to be categorical, the accuracy hasn`t chanched.  "
      ]
    },
    {
      "cell_type": "markdown",
      "metadata": {
        "id": "TZDRjLvr109Y"
      },
      "source": [
        "## **XGBoost Classification Model**\n",
        "\n",
        "\n",
        "After seeing a XGBoost Regression Model, we will build a XGBoost Classification Model. "
      ]
    },
    {
      "cell_type": "code",
      "metadata": {
        "id": "rHoUvsT_sDHg",
        "colab": {
          "base_uri": "https://localhost:8080/"
        },
        "outputId": "260c7093-dd49-4bca-906a-f3292034db72"
      },
      "source": [
        "xgbc = xgb.XGBClassifier(n_estimators=100)\n",
        "xgbc.fit(x_train_class, y_train_class)\n"
      ],
      "execution_count": 55,
      "outputs": [
        {
          "output_type": "execute_result",
          "data": {
            "text/plain": [
              "XGBClassifier(base_score=0.5, booster='gbtree', colsample_bylevel=1,\n",
              "              colsample_bynode=1, colsample_bytree=1, gamma=0,\n",
              "              learning_rate=0.1, max_delta_step=0, max_depth=3,\n",
              "              min_child_weight=1, missing=None, n_estimators=100, n_jobs=1,\n",
              "              nthread=None, objective='binary:logistic', random_state=0,\n",
              "              reg_alpha=0, reg_lambda=1, scale_pos_weight=1, seed=None,\n",
              "              silent=None, subsample=1, verbosity=1)"
            ]
          },
          "metadata": {
            "tags": []
          },
          "execution_count": 55
        }
      ]
    },
    {
      "cell_type": "code",
      "metadata": {
        "id": "RSO3RNPrqbtp"
      },
      "source": [
        "#Predict the response for test dataset\n",
        "y_pred_XGBclass = xgbc.predict(x_test_class)"
      ],
      "execution_count": 56,
      "outputs": []
    },
    {
      "cell_type": "code",
      "metadata": {
        "id": "c8icNQw-tgBF",
        "colab": {
          "base_uri": "https://localhost:8080/",
          "height": 436
        },
        "outputId": "7e327e91-4f8d-4d05-9b0c-b96f3c8d19d9"
      },
      "source": [
        "# Confusion matrix \n",
        "\n",
        "plt.style.use('classic')\n",
        "plt.figure(figsize=(2,2))\n",
        "pretty_print_conf_matrix(y_test_class, y_pred_XGBclass, \n",
        "                         classes= ['Poor=1', 'Good=2'],\n",
        "                         normalize=True, \n",
        "                         title='Confusion Matrix')\n"
      ],
      "execution_count": 57,
      "outputs": [
        {
          "output_type": "stream",
          "text": [
            "/usr/local/lib/python3.7/dist-packages/ipykernel_launcher.py:44: UserWarning: Tight layout not applied. The left and right margins cannot be made large enough to accommodate all axes decorations. \n"
          ],
          "name": "stderr"
        },
        {
          "output_type": "display_data",
          "data": {
            "image/png": "[encoded data removed]",
            "text/plain": [
              "<Figure size 160x160 with 1 Axes>"
            ]
          },
          "metadata": {
            "tags": []
          }
        }
      ]
    },
    {
      "cell_type": "markdown",
      "metadata": {
        "id": "f36dmOQ7AqiG"
      },
      "source": [
        "Seems that the currunt XGBoost model is the one that provides the highest percentage of accuracy."
      ]
    },
    {
      "cell_type": "code",
      "metadata": {
        "id": "_olrFA7EBEQJ"
      },
      "source": [
        ""
      ],
      "execution_count": null,
      "outputs": []
    }
  ]
}
